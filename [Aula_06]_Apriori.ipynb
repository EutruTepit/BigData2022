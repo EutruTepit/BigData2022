{
  "nbformat": 4,
  "nbformat_minor": 0,
  "metadata": {
    "colab": {
      "name": "[Aula 06] Apriori - 20221",
      "provenance": [],
      "collapsed_sections": [],
      "include_colab_link": true
    },
    "kernelspec": {
      "name": "python3",
      "display_name": "Python 3"
    },
    "language_info": {
      "name": "python"
    }
  },
  "cells": [
    {
      "cell_type": "markdown",
      "metadata": {
        "id": "view-in-github",
        "colab_type": "text"
      },
      "source": [
        "<a href=\"https://colab.research.google.com/github/EutruTepit/BigData2022/blob/main/%5BAula_06%5D_Apriori.ipynb\" target=\"_parent\"><img src=\"https://colab.research.google.com/assets/colab-badge.svg\" alt=\"Open In Colab\"/></a>"
      ]
    },
    {
      "cell_type": "markdown",
      "metadata": {
        "id": "1W5D5lR0H4R7"
      },
      "source": [
        "# Aula 06 - Utilização do Apriori"
      ]
    },
    {
      "cell_type": "markdown",
      "metadata": {
        "id": "JNyyH3QHIzGw"
      },
      "source": [
        "## Carregar a biblioteca do Apyori"
      ]
    },
    {
      "cell_type": "code",
      "metadata": {
        "id": "5Q9riQi1Gyak",
        "colab": {
          "base_uri": "https://localhost:8080/"
        },
        "outputId": "88cf85bb-8374-4d96-8e34-5e54f6b0db8d"
      },
      "source": [
        "!pip install apyori"
      ],
      "execution_count": 53,
      "outputs": [
        {
          "output_type": "stream",
          "name": "stdout",
          "text": [
            "Requirement already satisfied: apyori in /usr/local/lib/python3.7/dist-packages (1.1.2)\n"
          ]
        }
      ]
    },
    {
      "cell_type": "code",
      "metadata": {
        "id": "4LkRfDqCJ3h0"
      },
      "source": [
        "from apyori import apriori"
      ],
      "execution_count": 54,
      "outputs": []
    },
    {
      "cell_type": "markdown",
      "metadata": {
        "id": "bbFIGR2NI4oe"
      },
      "source": [
        "## Baixar o arquivo com listas de lista de compras.\n",
        "\n",
        "O arquivo se encontra em: https://drive.google.com/file/d/1OMKHXvKM21gSpxscAX5-kZlJZJvU4qXU/view?usp=sharing"
      ]
    },
    {
      "cell_type": "markdown",
      "metadata": {
        "id": "0SzSy6uKJL7d"
      },
      "source": [
        "Realizar a leitura do arquivo, sem o Pandas."
      ]
    },
    {
      "cell_type": "code",
      "metadata": {
        "id": "aTDBuLsaJLK2"
      },
      "source": [
        "transacoes = []\n",
        "\n",
        "with open('mercado_ficticio.csv') as f:\n",
        "    for transacao in f:\n",
        "      # items = transacao.replace('\\n', '').split(', ') # outra opção\n",
        "      items = transacao.strip().split(', ')\n",
        "      transacoes.append(items)"
      ],
      "execution_count": 55,
      "outputs": []
    },
    {
      "cell_type": "code",
      "metadata": {
        "id": "8X4AdndoJsqX",
        "colab": {
          "base_uri": "https://localhost:8080/"
        },
        "outputId": "99a7f722-cb5e-45e6-b127-780010601042"
      },
      "source": [
        "transacoes"
      ],
      "execution_count": 56,
      "outputs": [
        {
          "output_type": "execute_result",
          "data": {
            "text/plain": [
              "[['café', 'pao', 'manteiga'],\n",
              " ['leite', 'cerveja', 'pao', 'manteiga'],\n",
              " ['café', 'pao', 'manteiga'],\n",
              " ['leite', 'café', 'pao', 'manteiga'],\n",
              " ['cerveja'],\n",
              " ['manteiga'],\n",
              " ['pao'],\n",
              " ['feijao'],\n",
              " ['arroz', 'feijao'],\n",
              " ['arroz']]"
            ]
          },
          "metadata": {},
          "execution_count": 56
        }
      ]
    },
    {
      "cell_type": "markdown",
      "metadata": {
        "id": "93DI19wBJpkt"
      },
      "source": [
        "## Realizar chamada ao Apriori\n",
        "\n",
        "Lembre-se: o Apriori espera **sempre** uma lista de transações. \n",
        "Ou seja, uma lista com várias listas de produtos de uma única compra. \n",
        "\n",
        "Com isso e os parâmetros que forem utilizados, o Apriori será capaz de encontrar possíveis relações entre produtos.\n",
        "\n",
        "Parâmetros a serem definidos:\n",
        "- *min_support* (suporte mínimo);\n",
        "- *min_confidence* (confiança mínima);\n",
        "- *min_lift* (lift mínimo);\n",
        "- *min_length* (tamanho mínimo da lista de regras resultante)\n",
        "- *max_length* (tamanho máximo da lista de regras resultante)"
      ]
    },
    {
      "cell_type": "code",
      "metadata": {
        "id": "6TXj2BWhLROq"
      },
      "source": [
        "regras = apriori(transacoes, min_support=.2, min_confidence=.41, min_lift=1.01, max_length=2)"
      ],
      "execution_count": 57,
      "outputs": []
    },
    {
      "cell_type": "markdown",
      "metadata": {
        "id": "Gn8NogtZLSBZ"
      },
      "source": [
        "Temos ainda que converter o retorno do apriori para ***list***."
      ]
    },
    {
      "cell_type": "code",
      "metadata": {
        "id": "qGvJybt4LjFA",
        "colab": {
          "base_uri": "https://localhost:8080/"
        },
        "outputId": "b9e186c8-6024-4255-afab-3ca92a20e59c"
      },
      "source": [
        "regras = list(regras)\n",
        "regras"
      ],
      "execution_count": 58,
      "outputs": [
        {
          "output_type": "execute_result",
          "data": {
            "text/plain": [
              "[RelationRecord(items=frozenset({'manteiga', 'café'}), support=0.3, ordered_statistics=[OrderedStatistic(items_base=frozenset({'café'}), items_add=frozenset({'manteiga'}), confidence=1.0, lift=2.0), OrderedStatistic(items_base=frozenset({'manteiga'}), items_add=frozenset({'café'}), confidence=0.6, lift=2.0)]),\n",
              " RelationRecord(items=frozenset({'café', 'pao'}), support=0.3, ordered_statistics=[OrderedStatistic(items_base=frozenset({'café'}), items_add=frozenset({'pao'}), confidence=1.0, lift=2.0), OrderedStatistic(items_base=frozenset({'pao'}), items_add=frozenset({'café'}), confidence=0.6, lift=2.0)]),\n",
              " RelationRecord(items=frozenset({'manteiga', 'leite'}), support=0.2, ordered_statistics=[OrderedStatistic(items_base=frozenset({'leite'}), items_add=frozenset({'manteiga'}), confidence=1.0, lift=2.0)]),\n",
              " RelationRecord(items=frozenset({'pao', 'leite'}), support=0.2, ordered_statistics=[OrderedStatistic(items_base=frozenset({'leite'}), items_add=frozenset({'pao'}), confidence=1.0, lift=2.0)]),\n",
              " RelationRecord(items=frozenset({'manteiga', 'pao'}), support=0.4, ordered_statistics=[OrderedStatistic(items_base=frozenset({'manteiga'}), items_add=frozenset({'pao'}), confidence=0.8, lift=1.6), OrderedStatistic(items_base=frozenset({'pao'}), items_add=frozenset({'manteiga'}), confidence=0.8, lift=1.6)])]"
            ]
          },
          "metadata": {},
          "execution_count": 58
        }
      ]
    },
    {
      "cell_type": "code",
      "metadata": {
        "id": "EZm9TBBopmJa"
      },
      "source": [
        ""
      ],
      "execution_count": 58,
      "outputs": []
    },
    {
      "cell_type": "markdown",
      "metadata": {
        "id": "gT6mKxR-Lr7I"
      },
      "source": [
        "## Verificando os resultados obtidos"
      ]
    },
    {
      "cell_type": "code",
      "metadata": {
        "id": "pcxE5rQiNekL",
        "colab": {
          "base_uri": "https://localhost:8080/"
        },
        "outputId": "46da5e06-cd8b-418e-bf33-cd9a828e8323"
      },
      "source": [
        "regras[0]"
      ],
      "execution_count": 59,
      "outputs": [
        {
          "output_type": "execute_result",
          "data": {
            "text/plain": [
              "RelationRecord(items=frozenset({'manteiga', 'café'}), support=0.3, ordered_statistics=[OrderedStatistic(items_base=frozenset({'café'}), items_add=frozenset({'manteiga'}), confidence=1.0, lift=2.0), OrderedStatistic(items_base=frozenset({'manteiga'}), items_add=frozenset({'café'}), confidence=0.6, lift=2.0)])"
            ]
          },
          "metadata": {},
          "execution_count": 59
        }
      ]
    },
    {
      "cell_type": "code",
      "metadata": {
        "id": "rxU2r8sYLuMx",
        "colab": {
          "base_uri": "https://localhost:8080/"
        },
        "outputId": "8d75a1fd-90af-4af5-ff35-2ca23fcb581a"
      },
      "source": [
        "for i in regras:\n",
        "  items = list(i[0])\n",
        "  print(items)\n",
        "  print(\"Regra: \" + items[0] + \" -> \" + items[1])\n",
        "\n",
        "  print(\"Suporte: \" + str(i[1]))\n",
        "  print(\"Confiança: \" + str(i[2][0][2]))\n",
        "  print(\"Lift: \" + str(i[2][0][3]))\n",
        "  print(\"=====================================\")"
      ],
      "execution_count": 60,
      "outputs": [
        {
          "output_type": "stream",
          "name": "stdout",
          "text": [
            "['manteiga', 'café']\n",
            "Regra: manteiga -> café\n",
            "Suporte: 0.3\n",
            "Confiança: 1.0\n",
            "Lift: 2.0\n",
            "=====================================\n",
            "['café', 'pao']\n",
            "Regra: café -> pao\n",
            "Suporte: 0.3\n",
            "Confiança: 1.0\n",
            "Lift: 2.0\n",
            "=====================================\n",
            "['manteiga', 'leite']\n",
            "Regra: manteiga -> leite\n",
            "Suporte: 0.2\n",
            "Confiança: 1.0\n",
            "Lift: 2.0\n",
            "=====================================\n",
            "['pao', 'leite']\n",
            "Regra: pao -> leite\n",
            "Suporte: 0.2\n",
            "Confiança: 1.0\n",
            "Lift: 2.0\n",
            "=====================================\n",
            "['manteiga', 'pao']\n",
            "Regra: manteiga -> pao\n",
            "Suporte: 0.4\n",
            "Confiança: 0.8\n",
            "Lift: 1.6\n",
            "=====================================\n"
          ]
        }
      ]
    },
    {
      "cell_type": "code",
      "metadata": {
        "id": "TY-TInhWxxW4",
        "colab": {
          "base_uri": "https://localhost:8080/",
          "height": 751
        },
        "outputId": "47ddd9cb-be26-439e-e9ef-9d56440cbaba"
      },
      "source": [
        "informacoes = []\n",
        "\n",
        "for i in regras:\n",
        "    items = list(i[0])\n",
        "\n",
        "    informacoes.append({\n",
        "        'de': items[0],\n",
        "        'para': items[1],\n",
        "        'suporte': float(i[1]) ,\n",
        "        'confianca': float(i[2][0][2]),\n",
        "        'lift': float(i[2][0][3])\n",
        "    })\n",
        "    \n",
        "import pandas as pd\n",
        "import networkx as nx\n",
        "import matplotlib.pyplot as plt\n",
        "\n",
        "plt.rcParams['figure.figsize'] = (20, 10)\n",
        "\n",
        "df = pd.DataFrame(informacoes)\n",
        "G = nx.Graph()\n",
        "plt.figure()\n",
        "\n",
        "for i, v in df.iterrows():\n",
        "    texto = \"s: \" + str(int(v[\"suporte\"] * 100)) + \"% | c: \" + str(int(v[\"confianca\"] * 100)) + \"% | l: \" + str(v[\"lift\"])\n",
        "    G.add_edge(v[\"de\"], v[\"para\"], weight=v[\"suporte\"] * 100, label=texto, espessura=v[\"suporte\"] * 20)\n",
        "\n",
        "pos = nx.circular_layout(G)\n",
        "weights = list(nx.get_edge_attributes(G, 'espessura').values() )\n",
        "nx.draw(G, pos, with_labels=True, \n",
        "        width=weights,\n",
        "        font_size=12,\n",
        "        node_size=3500)\n",
        "\n",
        "labels = nx.get_edge_attributes(G, 'label') \n",
        "nx.draw_networkx_edge_labels(G, pos, font_color='black', edge_labels=labels, label_pos=.5, font_size=12)\n",
        "plt.show()"
      ],
      "execution_count": 61,
      "outputs": [
        {
          "output_type": "display_data",
          "data": {
            "text/plain": [
              "<Figure size 1440x720 with 1 Axes>"
            ],
            "image/png": "[encoded data removed]"
          },
          "metadata": {}
        }
      ]
    },
    {
      "cell_type": "code",
      "metadata": {
        "id": "KApY08EdN4oR",
        "colab": {
          "base_uri": "https://localhost:8080/",
          "height": 175
        },
        "outputId": "935d04ac-5896-4ddc-eb57-99d9a8c5dd3a"
      },
      "source": [
        "df_1 = df.pivot(index='de', columns='para', values='suporte').fillna(0)\n",
        "df_1.head()"
      ],
      "execution_count": 62,
      "outputs": [
        {
          "output_type": "execute_result",
          "data": {
            "text/plain": [
              "para      café  leite  pao\n",
              "de                        \n",
              "café       0.0    0.0  0.3\n",
              "manteiga   0.3    0.2  0.4\n",
              "pao        0.0    0.2  0.0"
            ],
            "text/html": [
              "\n",
              "  <div id=\"df-3f264ee0-3066-457c-ab2b-32ec102d02e1\">\n",
              "    <div class=\"colab-df-container\">\n",
              "      <div>\n",
              "<style scoped>\n",
              "    .dataframe tbody tr th:only-of-type {\n",
              "        vertical-align: middle;\n",
              "    }\n",
              "\n",
              "    .dataframe tbody tr th {\n",
              "        vertical-align: top;\n",
              "    }\n",
              "\n",
              "    .dataframe thead th {\n",
              "        text-align: right;\n",
              "    }\n",
              "</style>\n",
              "<table border=\"1\" class=\"dataframe\">\n",
              "  <thead>\n",
              "    <tr style=\"text-align: right;\">\n",
              "      <th>para</th>\n",
              "      <th>café</th>\n",
              "      <th>leite</th>\n",
              "      <th>pao</th>\n",
              "    </tr>\n",
              "    <tr>\n",
              "      <th>de</th>\n",
              "      <th></th>\n",
              "      <th></th>\n",
              "      <th></th>\n",
              "    </tr>\n",
              "  </thead>\n",
              "  <tbody>\n",
              "    <tr>\n",
              "      <th>café</th>\n",
              "      <td>0.0</td>\n",
              "      <td>0.0</td>\n",
              "      <td>0.3</td>\n",
              "    </tr>\n",
              "    <tr>\n",
              "      <th>manteiga</th>\n",
              "      <td>0.3</td>\n",
              "      <td>0.2</td>\n",
              "      <td>0.4</td>\n",
              "    </tr>\n",
              "    <tr>\n",
              "      <th>pao</th>\n",
              "      <td>0.0</td>\n",
              "      <td>0.2</td>\n",
              "      <td>0.0</td>\n",
              "    </tr>\n",
              "  </tbody>\n",
              "</table>\n",
              "</div>\n",
              "      <button class=\"colab-df-convert\" onclick=\"convertToInteractive('df-3f264ee0-3066-457c-ab2b-32ec102d02e1')\"\n",
              "              title=\"Convert this dataframe to an interactive table.\"\n",
              "              style=\"display:none;\">\n",
              "        \n",
              "  <svg xmlns=\"http://www.w3.org/2000/svg\" height=\"24px\"viewBox=\"0 0 24 24\"\n",
              "       width=\"24px\">\n",
              "    <path d=\"M0 0h24v24H0V0z\" fill=\"none\"/>\n",
              "    <path d=\"M18.56 5.44l.94 2.06.94-2.06 2.06-.94-2.06-.94-.94-2.06-.94 2.06-2.06.94zm-11 1L8.5 8.5l.94-2.06 2.06-.94-2.06-.94L8.5 2.5l-.94 2.06-2.06.94zm10 10l.94 2.06.94-2.06 2.06-.94-2.06-.94-.94-2.06-.94 2.06-2.06.94z\"/><path d=\"M17.41 7.96l-1.37-1.37c-.4-.4-.92-.59-1.43-.59-.52 0-1.04.2-1.43.59L10.3 9.45l-7.72 7.72c-.78.78-.78 2.05 0 2.83L4 21.41c.39.39.9.59 1.41.59.51 0 1.02-.2 1.41-.59l7.78-7.78 2.81-2.81c.8-.78.8-2.07 0-2.86zM5.41 20L4 18.59l7.72-7.72 1.47 1.35L5.41 20z\"/>\n",
              "  </svg>\n",
              "      </button>\n",
              "      \n",
              "  <style>\n",
              "    .colab-df-container {\n",
              "      display:flex;\n",
              "      flex-wrap:wrap;\n",
              "      gap: 12px;\n",
              "    }\n",
              "\n",
              "    .colab-df-convert {\n",
              "      background-color: #E8F0FE;\n",
              "      border: none;\n",
              "      border-radius: 50%;\n",
              "      cursor: pointer;\n",
              "      display: none;\n",
              "      fill: #1967D2;\n",
              "      height: 32px;\n",
              "      padding: 0 0 0 0;\n",
              "      width: 32px;\n",
              "    }\n",
              "\n",
              "    .colab-df-convert:hover {\n",
              "      background-color: #E2EBFA;\n",
              "      box-shadow: 0px 1px 2px rgba(60, 64, 67, 0.3), 0px 1px 3px 1px rgba(60, 64, 67, 0.15);\n",
              "      fill: #174EA6;\n",
              "    }\n",
              "\n",
              "    [theme=dark] .colab-df-convert {\n",
              "      background-color: #3B4455;\n",
              "      fill: #D2E3FC;\n",
              "    }\n",
              "\n",
              "    [theme=dark] .colab-df-convert:hover {\n",
              "      background-color: #434B5C;\n",
              "      box-shadow: 0px 1px 3px 1px rgba(0, 0, 0, 0.15);\n",
              "      filter: drop-shadow(0px 1px 2px rgba(0, 0, 0, 0.3));\n",
              "      fill: #FFFFFF;\n",
              "    }\n",
              "  </style>\n",
              "\n",
              "      <script>\n",
              "        const buttonEl =\n",
              "          document.querySelector('#df-3f264ee0-3066-457c-ab2b-32ec102d02e1 button.colab-df-convert');\n",
              "        buttonEl.style.display =\n",
              "          google.colab.kernel.accessAllowed ? 'block' : 'none';\n",
              "\n",
              "        async function convertToInteractive(key) {\n",
              "          const element = document.querySelector('#df-3f264ee0-3066-457c-ab2b-32ec102d02e1');\n",
              "          const dataTable =\n",
              "            await google.colab.kernel.invokeFunction('convertToInteractive',\n",
              "                                                     [key], {});\n",
              "          if (!dataTable) return;\n",
              "\n",
              "          const docLinkHtml = 'Like what you see? Visit the ' +\n",
              "            '<a target=\"_blank\" href=https://colab.research.google.com/notebooks/data_table.ipynb>data table notebook</a>'\n",
              "            + ' to learn more about interactive tables.';\n",
              "          element.innerHTML = '';\n",
              "          dataTable['output_type'] = 'display_data';\n",
              "          await google.colab.output.renderOutput(dataTable, element);\n",
              "          const docLink = document.createElement('div');\n",
              "          docLink.innerHTML = docLinkHtml;\n",
              "          element.appendChild(docLink);\n",
              "        }\n",
              "      </script>\n",
              "    </div>\n",
              "  </div>\n",
              "  "
            ]
          },
          "metadata": {},
          "execution_count": 62
        }
      ]
    },
    {
      "cell_type": "code",
      "metadata": {
        "id": "_3N62o7nOdtP",
        "colab": {
          "base_uri": "https://localhost:8080/",
          "height": 338
        },
        "outputId": "8647ab9a-d963-4bd9-db75-4feb33489ded"
      },
      "source": [
        "import seaborn as sns\n",
        "\n",
        "plt.rcParams['figure.figsize'] = (5, 5)\n",
        "sns.heatmap(df_1, annot=True, fmt='.2f');"
      ],
      "execution_count": 63,
      "outputs": [
        {
          "output_type": "display_data",
          "data": {
            "text/plain": [
              "<Figure size 360x360 with 2 Axes>"
            ],
            "image/png": "[encoded data removed]"
          },
          "metadata": {
            "needs_background": "light"
          }
        }
      ]
    },
    {
      "cell_type": "code",
      "metadata": {
        "id": "pH4_IJ9B9Ld4",
        "colab": {
          "base_uri": "https://localhost:8080/",
          "height": 338
        },
        "outputId": "d31f9762-5524-47c4-e148-b63da589aac3"
      },
      "source": [
        "import seaborn as sns\n",
        "\n",
        "sns.heatmap(df.pivot(index='de', columns='para', values='confianca').fillna(0),\n",
        "            annot=True, fmt='.2f');"
      ],
      "execution_count": 64,
      "outputs": [
        {
          "output_type": "display_data",
          "data": {
            "text/plain": [
              "<Figure size 360x360 with 2 Axes>"
            ],
            "image/png": "[encoded data removed]"
          },
          "metadata": {
            "needs_background": "light"
          }
        }
      ]
    },
    {
      "cell_type": "markdown",
      "source": [
        "## Salvar \"modelo\" com Pickle\n",
        "\n",
        "Usando o nome \"regras.pickle\" e usando o médoto dump."
      ],
      "metadata": {
        "id": "ZRLGMwS-o_DX"
      }
    },
    {
      "cell_type": "code",
      "metadata": {
        "id": "Jdb2lPUVYkUm"
      },
      "source": [
        "import pickle\n",
        "\n",
        "with open('regras.pickle' ,'wb') as arquivo:\n",
        "  pickle.dump(regras, arquivo)"
      ],
      "execution_count": 67,
      "outputs": []
    }
  ]
}