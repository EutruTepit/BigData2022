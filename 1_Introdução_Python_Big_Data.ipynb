{
  "nbformat": 4,
  "nbformat_minor": 0,
  "metadata": {
    "colab": {
      "name": "1 - Introdução Python - Big Data",
      "provenance": [],
      "collapsed_sections": [],
      "authorship_tag": "ABX9TyMFWu4knNqOQzNmKrWsQWTI",
      "include_colab_link": true
    },
    "kernelspec": {
      "name": "python3",
      "display_name": "Python 3"
    },
    "language_info": {
      "name": "python"
    }
  },
  "cells": [
    {
      "cell_type": "markdown",
      "metadata": {
        "id": "view-in-github",
        "colab_type": "text"
      },
      "source": [
        "<a href=\"https://colab.research.google.com/github/EutruTepit/BigData2022/blob/main/1_Introdu%C3%A7%C3%A3o_Python_Big_Data.ipynb\" target=\"_parent\"><img src=\"https://colab.research.google.com/assets/colab-badge.svg\" alt=\"Open In Colab\"/></a>"
      ]
    },
    {
      "cell_type": "markdown",
      "source": [
        "##Tipos de variaveis"
      ],
      "metadata": {
        "id": "c9o7-Y8kZB1i"
      }
    },
    {
      "cell_type": "code",
      "execution_count": null,
      "metadata": {
        "id": "ZgL4GBbgC0Mk"
      },
      "outputs": [],
      "source": [
        "Qtd_de_alunos = 1\n",
        "media = 6.7\n",
        "turma = \"Big Data\"\n",
        "turma_ativa = True"
      ]
    },
    {
      "cell_type": "markdown",
      "source": [
        "Uso de variaveis"
      ],
      "metadata": {
        "id": "rW_XtctKZGTl"
      }
    },
    {
      "cell_type": "code",
      "source": [
        "def juros_comp (vi, taxa, tempo):\n",
        "  return round(vi * (1 + taxa/100)**tempo , 2)\n",
        "\n",
        "juros_comp(8000, 0.5, 17)"
      ],
      "metadata": {
        "colab": {
          "base_uri": "https://localhost:8080/"
        },
        "id": "e5CrAXgvE2pK",
        "outputId": "1e7e99f4-40a7-499a-cc25-4650e05dfc62"
      },
      "execution_count": null,
      "outputs": [
        {
          "output_type": "execute_result",
          "data": {
            "text/plain": [
              "8707.89"
            ]
          },
          "metadata": {},
          "execution_count": 41
        }
      ]
    },
    {
      "cell_type": "markdown",
      "source": [
        "##Estutura de condições"
      ],
      "metadata": {
        "id": "dtRi8-UqZKGt"
      }
    },
    {
      "cell_type": "code",
      "source": [
        "nota = 4\n",
        "\n",
        "if nota >= 6:\n",
        "  print(\"Aprovado\")\n",
        "else:\n",
        "  print(\"Reprovado\")"
      ],
      "metadata": {
        "colab": {
          "base_uri": "https://localhost:8080/"
        },
        "id": "7e8iaqP1Fgf-",
        "outputId": "9d4f598a-75e1-4692-b6bf-e0b25ffd7fd4"
      },
      "execution_count": null,
      "outputs": [
        {
          "output_type": "stream",
          "name": "stdout",
          "text": [
            "Reprovado\n"
          ]
        }
      ]
    },
    {
      "cell_type": "code",
      "source": [
        "if nota >= 6:\n",
        "  print(\"Aprovado\")\n",
        "elif nota >= 5 and nota < 6:\n",
        "  print(\"Recuperação\")\n",
        "else:\n",
        "  print(\"Reprovado\")"
      ],
      "metadata": {
        "colab": {
          "base_uri": "https://localhost:8080/"
        },
        "id": "nXgOa2GZOd7C",
        "outputId": "ad48b18e-95e7-4eae-c564-a5fe5abba8e2"
      },
      "execution_count": null,
      "outputs": [
        {
          "output_type": "stream",
          "name": "stdout",
          "text": [
            "Reprovado\n"
          ]
        }
      ]
    },
    {
      "cell_type": "code",
      "source": [
        "def zona(grau):\n",
        "  if grau >= 0 and grau <= 23.26:\n",
        "    return(\"Zona Tropical\")\n",
        "  elif grau <= 66.32:\n",
        "    return(\"Zona Temperada do sul\")\n",
        "  else:\n",
        "    return(\"Zona Polar sul\")\n",
        "\n",
        "Monte_Verde = 22.86\n",
        "Cacador = 26.81\n",
        "ilhaAI = 71.45\n",
        "\n",
        "print(\"Monte Verde - \" + zona(Monte_Verde))\n",
        "print(\"Caçador - \" + zona(Cacador))\n",
        "print(\"Ilha Alexandre I - \" + zona(ilhaAI))"
      ],
      "metadata": {
        "colab": {
          "base_uri": "https://localhost:8080/"
        },
        "id": "CX4ap_fzPnvi",
        "outputId": "6afbc1fe-9a6f-4197-aeba-feb0fb9f3134"
      },
      "execution_count": null,
      "outputs": [
        {
          "output_type": "stream",
          "name": "stdout",
          "text": [
            "Monte Verde - Zona Tropical\n",
            "Caçador - Zona Temperada do sul\n",
            "Ilha Alexandre I - Zona Polar sul\n"
          ]
        }
      ]
    },
    {
      "cell_type": "markdown",
      "source": [
        "##Estruturas de repetição"
      ],
      "metadata": {
        "id": "ZEVInxIrZPWF"
      }
    },
    {
      "cell_type": "code",
      "source": [
        "from random import random\n",
        "\n",
        "x = random()\n",
        "contador = 1\n",
        "\n",
        "while x <0.7:\n",
        "  contador += 1\n",
        "  x = random()\n",
        "\n",
        "print(contador)"
      ],
      "metadata": {
        "colab": {
          "base_uri": "https://localhost:8080/"
        },
        "id": "_tS-fdepUTTq",
        "outputId": "bb4031a2-8c50-47d5-c04c-df755edbed12"
      },
      "execution_count": null,
      "outputs": [
        {
          "output_type": "stream",
          "name": "stdout",
          "text": [
            "2\n"
          ]
        }
      ]
    },
    {
      "cell_type": "code",
      "source": [
        "for i in range(0,10):\n",
        "  print(i**2)"
      ],
      "metadata": {
        "colab": {
          "base_uri": "https://localhost:8080/"
        },
        "id": "LykgHxkbWQ12",
        "outputId": "df137d20-63f6-4c7e-f212-c1ae33f3a4f2"
      },
      "execution_count": null,
      "outputs": [
        {
          "output_type": "stream",
          "name": "stdout",
          "text": [
            "0\n",
            "1\n",
            "4\n",
            "9\n",
            "16\n",
            "25\n",
            "36\n",
            "49\n",
            "64\n",
            "81\n"
          ]
        }
      ]
    },
    {
      "cell_type": "code",
      "source": [
        "dados_disciplina = [\"Big Data e Data Analytics\", 40, 20, 7.5]\n",
        "\n",
        "print(dados_disciplina[1])\n",
        "\n",
        "print(\"---\")\n",
        "\n",
        "for i in dados_disciplina:\n",
        "  print(i)"
      ],
      "metadata": {
        "colab": {
          "base_uri": "https://localhost:8080/"
        },
        "id": "01PGA-_8Wlyv",
        "outputId": "4ef1b14d-ab23-4e70-fd7f-e63f1a628c5e"
      },
      "execution_count": null,
      "outputs": [
        {
          "output_type": "stream",
          "name": "stdout",
          "text": [
            "40\n",
            "---\n",
            "Big Data e Data Analytics\n",
            "40\n",
            "20\n",
            "7.5\n"
          ]
        }
      ]
    },
    {
      "cell_type": "code",
      "source": [
        "for i in range(0, 10):\n",
        "  if i % 2 == 0:\n",
        "    print(i)"
      ],
      "metadata": {
        "colab": {
          "base_uri": "https://localhost:8080/"
        },
        "id": "zq4GED7IXiRf",
        "outputId": "88363514-eea3-4e4b-b117-6272b27ea467"
      },
      "execution_count": null,
      "outputs": [
        {
          "output_type": "stream",
          "name": "stdout",
          "text": [
            "0\n",
            "2\n",
            "4\n",
            "6\n",
            "8\n"
          ]
        }
      ]
    },
    {
      "cell_type": "markdown",
      "source": [
        "##Funcionalidades de lista"
      ],
      "metadata": {
        "id": "M0IMteiha6qP"
      }
    },
    {
      "cell_type": "code",
      "source": [
        "lista=[2, 4, 6, \"Big Data\"]\n",
        "\n",
        "tam = len(lista)\n",
        "print(\"Tamanho da lista:\", tam)\n",
        "lista.append(5)\n",
        "print(\"Apend 5:\", lista)\n",
        "print(\"----\")\n",
        "lista.remove(2)\n",
        "print(\"Remove 2:\", lista)\n",
        "print(\"----\")\n",
        "lista.pop(1)\n",
        "print(\"Pop 1º\", lista)\n",
        "print(\"----\")\n",
        "\n",
        "lista=[2, 4, 6, \"Big Data\"]\n",
        "del lista[2:4]\n",
        "print(\"Retirando o intervalo 2:4:\", lista)"
      ],
      "metadata": {
        "colab": {
          "base_uri": "https://localhost:8080/"
        },
        "id": "qhW2cUixa-F_",
        "outputId": "f47cd897-1f67-490e-8149-4d9d855c72c8"
      },
      "execution_count": null,
      "outputs": [
        {
          "output_type": "stream",
          "name": "stdout",
          "text": [
            "Tamanho da lista: 4\n",
            "Apend 5: [2, 4, 6, 'Big Data', 5]\n",
            "----\n",
            "Remove 2: [4, 6, 'Big Data', 5]\n",
            "----\n",
            "Pop 1º [4, 'Big Data', 5]\n",
            "----\n",
            "Retirando o intervalo 2:4: [2, 4]\n"
          ]
        }
      ]
    },
    {
      "cell_type": "markdown",
      "source": [
        "###Slices"
      ],
      "metadata": {
        "id": "pQljKj6jdVxn"
      }
    },
    {
      "cell_type": "code",
      "source": [
        "lista=[2, 4, 6, \"Big Data\"]\n",
        "\n",
        "print(\"Retornando intervalo [:3]:\", lista[:3])\n",
        "print(\"Retornando intervalo [1:]:\", lista[1:])"
      ],
      "metadata": {
        "colab": {
          "base_uri": "https://localhost:8080/"
        },
        "id": "eKQZA2nfdYCY",
        "outputId": "665bbf4d-50c5-4cf8-ada0-c32ef5e0d7e9"
      },
      "execution_count": null,
      "outputs": [
        {
          "output_type": "stream",
          "name": "stdout",
          "text": [
            "Retornando intervalo [:3]: [2, 4, 6]\n",
            "Retornando intervalo [1:]: [4, 6, 'Big Data']\n"
          ]
        }
      ]
    },
    {
      "cell_type": "markdown",
      "source": [
        "###Compreenção de lista"
      ],
      "metadata": {
        "id": "pQTpJ3FXeW2D"
      }
    },
    {
      "cell_type": "code",
      "source": [
        "nova_lista = [str(i) for i in lista]\n",
        "print(\"Nova lista em string:\", nova_lista)"
      ],
      "metadata": {
        "colab": {
          "base_uri": "https://localhost:8080/"
        },
        "id": "i5JgENABeZDg",
        "outputId": "0022d79a-43cc-44a0-aa87-5951b5829144"
      },
      "execution_count": null,
      "outputs": [
        {
          "output_type": "stream",
          "name": "stdout",
          "text": [
            "Nova lista em string: ['2', '4', '6', 'Big Data']\n"
          ]
        }
      ]
    },
    {
      "cell_type": "code",
      "source": [
        "nova_lista = [i for i in lista if isinstance(i, str)]\n",
        "print(\"Apenas strings em lista:\", nova_lista)"
      ],
      "metadata": {
        "colab": {
          "base_uri": "https://localhost:8080/"
        },
        "id": "OjMms1eXfJLq",
        "outputId": "65e486d8-afa6-4846-ca14-e8eb8b341aa5"
      },
      "execution_count": null,
      "outputs": [
        {
          "output_type": "stream",
          "name": "stdout",
          "text": [
            "Apenas strings em lista: ['Big Data']\n"
          ]
        }
      ]
    },
    {
      "cell_type": "markdown",
      "source": [
        "#Listas"
      ],
      "metadata": {
        "id": "hIOWvIdm14-a"
      }
    },
    {
      "cell_type": "code",
      "source": [
        "minha_lista = ['mundo', 'ola', 'c1', 'd2', 'a3']\n",
        "minha_lista.sort(reverse=True)\n",
        "print(minha_lista)"
      ],
      "metadata": {
        "colab": {
          "base_uri": "https://localhost:8080/"
        },
        "id": "vvE0dmsM14E5",
        "outputId": "6527d8f2-f335-4b45-f014-a71d4a3c3a3b"
      },
      "execution_count": null,
      "outputs": [
        {
          "output_type": "stream",
          "name": "stdout",
          "text": [
            "['ola', 'mundo', 'd2', 'c1', 'a3']\n"
          ]
        }
      ]
    },
    {
      "cell_type": "code",
      "source": [
        "nova_lista = sorted(minha_lista)\n",
        "print(nova_lista)"
      ],
      "metadata": {
        "colab": {
          "base_uri": "https://localhost:8080/"
        },
        "id": "hgsKfXVW2z1C",
        "outputId": "28d2828c-6f9a-459b-ec70-cebee7a754e5"
      },
      "execution_count": null,
      "outputs": [
        {
          "output_type": "stream",
          "name": "stdout",
          "text": [
            "['a3', 'c1', 'd2', 'mundo', 'ola']\n"
          ]
        }
      ]
    },
    {
      "cell_type": "code",
      "source": [
        "minha_lista.reverse()\n",
        "print(minha_lista)"
      ],
      "metadata": {
        "colab": {
          "base_uri": "https://localhost:8080/"
        },
        "id": "G-xd1QVm21Ky",
        "outputId": "6dfdaa89-d384-472e-c199-8cfabb7361ee"
      },
      "execution_count": null,
      "outputs": [
        {
          "output_type": "stream",
          "name": "stdout",
          "text": [
            "['a3', 'c1', 'd2', 'mundo', 'ola']\n"
          ]
        }
      ]
    },
    {
      "cell_type": "markdown",
      "source": [
        "#Dicionário"
      ],
      "metadata": {
        "id": "GnYjThZ53YJk"
      }
    },
    {
      "cell_type": "code",
      "source": [
        "disciplina={'nome':'Big Data e Data Analyties', 'creditos': 4, 'semestre': \"2022/1\"}\n",
        "print(disciplina.items())\n",
        "print(disciplina.keys())\n",
        "print(disciplina.values())"
      ],
      "metadata": {
        "colab": {
          "base_uri": "https://localhost:8080/"
        },
        "id": "7yPuCfNN3dUb",
        "outputId": "c48d0a5e-def8-4a9c-a7fe-9d72b4a6f7c0"
      },
      "execution_count": null,
      "outputs": [
        {
          "output_type": "stream",
          "name": "stdout",
          "text": [
            "dict_items([('nome', 'Big Data e Data Analyties'), ('creditos', 4), ('semestre', '2022/1')])\n",
            "dict_keys(['nome', 'creditos', 'semestre'])\n",
            "dict_values(['Big Data e Data Analyties', 4, '2022/1'])\n"
          ]
        }
      ]
    },
    {
      "cell_type": "code",
      "source": [
        "for key, item in disciplina.items():\n",
        "  print(f'{key} {item}')"
      ],
      "metadata": {
        "colab": {
          "base_uri": "https://localhost:8080/"
        },
        "id": "hc_IUK2L5B1D",
        "outputId": "3e2356f9-a51c-4058-e3c1-4172bd6410a7"
      },
      "execution_count": null,
      "outputs": [
        {
          "output_type": "stream",
          "name": "stdout",
          "text": [
            "nome Big Data e Data Analyties\n",
            "creditos 4\n",
            "semestre 2022/1\n"
          ]
        }
      ]
    },
    {
      "cell_type": "code",
      "source": [
        "disciplina_inv = {item:key for key, item in disciplina.items()}\n",
        "print(disciplina_inv)"
      ],
      "metadata": {
        "colab": {
          "base_uri": "https://localhost:8080/"
        },
        "id": "vA8UzF8r6_5f",
        "outputId": "4324e382-4155-4c1b-f94e-6007757555c7"
      },
      "execution_count": null,
      "outputs": [
        {
          "output_type": "stream",
          "name": "stdout",
          "text": [
            "{'Big Data e Data Analyties': 'nome', 4: 'creditos', '2022/1': 'semestre'}\n"
          ]
        }
      ]
    },
    {
      "cell_type": "markdown",
      "source": [
        "#Funções"
      ],
      "metadata": {
        "id": "2mOeEdgm8W_M"
      }
    },
    {
      "cell_type": "code",
      "source": [
        "def imc(peso, altura):\n",
        "  return peso/(altura**2)\n",
        "\n",
        "meu_imc = imc(65, 1.79)\n",
        "print(meu_imc)"
      ],
      "metadata": {
        "colab": {
          "base_uri": "https://localhost:8080/"
        },
        "id": "HucI_0NE8Y1l",
        "outputId": "d51d77fa-2bd9-42fc-c086-68517c66bc67"
      },
      "execution_count": null,
      "outputs": [
        {
          "output_type": "stream",
          "name": "stdout",
          "text": [
            "20.286507911738084\n"
          ]
        }
      ]
    },
    {
      "cell_type": "code",
      "source": [
        "print(juros_comp(8000, 0.5, 17))\n",
        "print(juros_comp(1204, 0.9, 3))\n",
        "print(juros_comp(taxa=0.3, tempo=34, vi=20000))"
      ],
      "metadata": {
        "colab": {
          "base_uri": "https://localhost:8080/"
        },
        "id": "BjSUuFfs9NVW",
        "outputId": "fcea0fe9-753c-4c90-c3ca-6735db8d3ed3"
      },
      "execution_count": null,
      "outputs": [
        {
          "output_type": "stream",
          "name": "stdout",
          "text": [
            "8707.89\n",
            "1236.8\n",
            "22144.29\n"
          ]
        }
      ]
    },
    {
      "cell_type": "markdown",
      "source": [
        "#Classe"
      ],
      "metadata": {
        "id": "yX86AGMlAUz1"
      }
    },
    {
      "cell_type": "code",
      "source": [
        "class Veiculo:\n",
        "  #Caso uma variavel tenha valores padrão todas as variaveis a direita necessita ser referenciada o tipo\n",
        "  def __init__(self, cor, velocidade=0):\n",
        "    self.velocidade = velocidade\n",
        "    self.cor = cor\n",
        "\n",
        "  def acelerar(self, km_h):\n",
        "    self.velocidade += km_h\n",
        "\n",
        "carro = Veiculo(cor=\"preto\", velocidade=20)\n",
        "\n",
        "print(carro.velocidade)\n",
        "carro.acelerar(20)\n",
        "print(carro.velocidade)"
      ],
      "metadata": {
        "colab": {
          "base_uri": "https://localhost:8080/"
        },
        "id": "_FI4kIBjAV_O",
        "outputId": "df218d5b-d1b7-42fa-91e5-7f5d6b8945a7"
      },
      "execution_count": null,
      "outputs": [
        {
          "output_type": "stream",
          "name": "stdout",
          "text": [
            "20\n",
            "40\n"
          ]
        }
      ]
    }
  ]
}