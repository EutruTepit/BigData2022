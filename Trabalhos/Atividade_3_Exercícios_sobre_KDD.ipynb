{
  "nbformat": 4,
  "nbformat_minor": 0,
  "metadata": {
    "colab": {
      "name": "Atividade 3 - Exercícios sobre KDD",
      "provenance": [],
      "collapsed_sections": []
    },
    "kernelspec": {
      "name": "python3",
      "display_name": "Python 3"
    },
    "language_info": {
      "name": "python"
    }
  },
  "cells": [
    {
      "cell_type": "markdown",
      "source": [
        "# Big Data & Data Analytics\n",
        "\n",
        "Atividade 3 - Exercícios sobre KDD (Dupla)\n",
        "\n",
        "Alunos: Luís Felippe, Welinton Haas"
      ],
      "metadata": {
        "id": "hsVPzD6utdnr"
      }
    },
    {
      "cell_type": "markdown",
      "source": [
        "1. Encontre os valores aproximados de Q1, Q2, Q3 e o número de outliers da imagem abaixo:\n",
        "\n",
        "![image.png](data:image/png;base64,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)"
      ],
      "metadata": {
        "id": "eOnNoQOBuYeT"
      }
    },
    {
      "cell_type": "markdown",
      "source": [
        "> Q1≅75 Q2≅95 Q3≅130\n",
        "\n",
        "> Possui 4 outliners.\n",
        "\n",
        "\n",
        "\n"
      ],
      "metadata": {
        "id": "NeLFAi_Ju2Gp"
      }
    },
    {
      "cell_type": "markdown",
      "source": [
        "### Exercícios sobre análise de dados\n",
        "Obs: Utilizaremos um conjunto de dados sobre doação de sangue em Taiwan. \n",
        "Contém 5 colunas: recency, frequency, monetary, time e classe. Recency significa, neste contexto, meses desde a última doação; frequency: número total de doações; monetary: total de sangue doado em cm³, time: meses desde a primeira doação. \n",
        "\n",
        "A classe é uma variável binária que representa: 0 se não voltou a doar em março de 2007; 1 se doou em março de 2007.\n"
      ],
      "metadata": {
        "id": "h9hWbfKLtph3"
      }
    },
    {
      "cell_type": "markdown",
      "source": [
        "## 1. \n",
        "Carregue corretamente os dados sobre doações de sangue, utilizando o seguinte link: https://archive.ics.uci.edu/ml/machine-learning-databases/blood-transfusion/transfusion.data. Renomeie corretamente o nome das colunas e abrevie como/se achar necessário. A resposta para esta questão é o próprio código de carregamento usando Pandas."
      ],
      "metadata": {
        "id": "rpHJ1GGltuOJ"
      }
    },
    {
      "cell_type": "code",
      "source": [
        "import pandas as pd\n",
        "\n",
        "df = pd.read_csv(\"https://archive.ics.uci.edu/ml/machine-learning-databases/blood-transfusion/transfusion.data\")\n",
        "\n",
        "remap = {\n",
        "    'Recency (months)': 'recenica',\n",
        "    'Frequency (times)': 'freq',\n",
        "    'Monetary (c.c. blood)': 'volume',\n",
        "    'Time (months)': \"ultimaVez\",\n",
        "    'whether he/she donated blood in March 2007': \"doouEm2007\"\n",
        "}\n",
        "\n",
        "df.rename(remap, axis=1, inplace=True)\n",
        "\n"
      ],
      "metadata": {
        "id": "ByUTHawatdaA"
      },
      "execution_count": null,
      "outputs": []
    },
    {
      "cell_type": "markdown",
      "source": [
        "## 2. \n",
        "Quais são os tipos das variáveis desse conjunto de dados? Há alguma coluna que não seja numérica? Se sim, qual?\n",
        "\n",
        "R: De acordo com a documentação do dataset a coluna doouEm2007 é boleana"
      ],
      "metadata": {
        "id": "CH_XwcUDtzqi"
      }
    },
    {
      "cell_type": "code",
      "source": [
        "df.info()\n",
        "\n",
        "# fazendo a conversao de tipo de int64 para bool\n",
        "df[\"doouEm2007\"] = df[[\"doouEm2007\"]].astype(bool)\n",
        "df.info()"
      ],
      "metadata": {
        "id": "cUX4DRQNt0FG",
        "colab": {
          "base_uri": "https://localhost:8080/"
        },
        "outputId": "47277159-1ad1-4443-d974-69ca68ef935e"
      },
      "execution_count": null,
      "outputs": [
        {
          "output_type": "stream",
          "name": "stdout",
          "text": [
            "<class 'pandas.core.frame.DataFrame'>\n",
            "RangeIndex: 748 entries, 0 to 747\n",
            "Data columns (total 5 columns):\n",
            " #   Column      Non-Null Count  Dtype\n",
            "---  ------      --------------  -----\n",
            " 0   recenica    748 non-null    int64\n",
            " 1   freq        748 non-null    int64\n",
            " 2   volume      748 non-null    int64\n",
            " 3   ultimaVez   748 non-null    int64\n",
            " 4   doouEm2007  748 non-null    int64\n",
            "dtypes: int64(5)\n",
            "memory usage: 29.3 KB\n",
            "<class 'pandas.core.frame.DataFrame'>\n",
            "RangeIndex: 748 entries, 0 to 747\n",
            "Data columns (total 5 columns):\n",
            " #   Column      Non-Null Count  Dtype\n",
            "---  ------      --------------  -----\n",
            " 0   recenica    748 non-null    int64\n",
            " 1   freq        748 non-null    int64\n",
            " 2   volume      748 non-null    int64\n",
            " 3   ultimaVez   748 non-null    int64\n",
            " 4   doouEm2007  748 non-null    bool \n",
            "dtypes: bool(1), int64(4)\n",
            "memory usage: 24.2 KB\n"
          ]
        }
      ]
    },
    {
      "cell_type": "markdown",
      "source": [
        "## 3. \n",
        "Utilizando a funcionalidade de agrupamento do Pandas, descubra qual a quantidade de observações (linhas) por classe. Qual a classe com maior quantidade de observações? \n",
        "\n",
        "R. Classe False possui maior quantidade"
      ],
      "metadata": {
        "id": "ift1bNEXt8Jz"
      }
    },
    {
      "cell_type": "code",
      "source": [
        "df.groupby([\"doouEm2007\"]).size()"
      ],
      "metadata": {
        "id": "SoWHCnLkt8bQ",
        "colab": {
          "base_uri": "https://localhost:8080/"
        },
        "outputId": "3e821bc8-e7b4-4182-dbec-6e887e13dfd7"
      },
      "execution_count": null,
      "outputs": [
        {
          "output_type": "execute_result",
          "data": {
            "text/plain": [
              "doouEm2007\n",
              "False    570\n",
              "True     178\n",
              "dtype: int64"
            ]
          },
          "metadata": {},
          "execution_count": 4
        }
      ]
    },
    {
      "cell_type": "markdown",
      "source": [
        "##4.\n",
        " Qual a coluna do conjunto de dados com maior desvio padrão (std)? \n",
        "\n",
        " R. coluna volume possui maior desvio padrão"
      ],
      "metadata": {
        "id": "D9CStXhXt-nv"
      }
    },
    {
      "cell_type": "code",
      "source": [
        "df.std()"
      ],
      "metadata": {
        "id": "xQ-tnsNPt-1G",
        "colab": {
          "base_uri": "https://localhost:8080/"
        },
        "outputId": "e5873b17-150f-4c8e-8b3e-593be853e8ea"
      },
      "execution_count": null,
      "outputs": [
        {
          "output_type": "execute_result",
          "data": {
            "text/plain": [
              "recenica         8.095396\n",
              "freq             5.839307\n",
              "volume        1459.826781\n",
              "ultimaVez       24.376714\n",
              "doouEm2007       0.426124\n",
              "dtype: float64"
            ]
          },
          "metadata": {},
          "execution_count": 5
        }
      ]
    },
    {
      "cell_type": "markdown",
      "source": [
        "## 5.\n",
        " Observando o histograma da coluna frequency, o que pode ser inferido? \n",
        "\n",
        "R: Pode concluir-se que a maioria das pessoas doam menos de 5 vezes"
      ],
      "metadata": {
        "id": "ChHQXgCKuDE1"
      }
    },
    {
      "cell_type": "code",
      "source": [
        "df['freq'].hist();"
      ],
      "metadata": {
        "id": "lRtrf3keuFRa",
        "colab": {
          "base_uri": "https://localhost:8080/",
          "height": 267
        },
        "outputId": "398a9f3c-981a-44be-b715-0841a9db93d0"
      },
      "execution_count": null,
      "outputs": [
        {
          "output_type": "display_data",
          "data": {
            "text/plain": [
              "<Figure size 432x288 with 1 Axes>"
            ],
            "image/png": "[encoded data removed]"
          },
          "metadata": {
            "needs_background": "light"
          }
        }
      ]
    },
    {
      "cell_type": "markdown",
      "source": [
        "##6. \n",
        "Observando o histograma da coluna time, o que pode ser inferido?\n",
        "\n",
        "R: Os doadores mais novos tem a tendência maior de retornar a doar."
      ],
      "metadata": {
        "id": "BEzh50J4uFgz"
      }
    },
    {
      "cell_type": "code",
      "source": [
        "df['ultimaVez'].hist();"
      ],
      "metadata": {
        "id": "yLujIfqMuIGZ",
        "colab": {
          "base_uri": "https://localhost:8080/",
          "height": 267
        },
        "outputId": "c19909a5-7d50-4b14-8de3-4222fabb929c"
      },
      "execution_count": null,
      "outputs": [
        {
          "output_type": "display_data",
          "data": {
            "text/plain": [
              "<Figure size 432x288 with 1 Axes>"
            ],
            "image/png": "[encoded data removed]"
          },
          "metadata": {
            "needs_background": "light"
          }
        }
      ]
    },
    {
      "cell_type": "markdown",
      "source": [
        "## 7. \n",
        "Qual o maior valor observado de time (meses desde a primeira doação)?"
      ],
      "metadata": {
        "id": "w4frwT4NuIYu"
      }
    },
    {
      "cell_type": "code",
      "source": [
        "df['ultimaVez'].max()"
      ],
      "metadata": {
        "id": "AzZq-rPHuKQM",
        "colab": {
          "base_uri": "https://localhost:8080/"
        },
        "outputId": "261bcbc5-8336-4d91-e2f8-94df6dd92945"
      },
      "execution_count": null,
      "outputs": [
        {
          "output_type": "execute_result",
          "data": {
            "text/plain": [
              "98"
            ]
          },
          "metadata": {},
          "execution_count": 12
        }
      ]
    },
    {
      "cell_type": "markdown",
      "source": [
        "## 8. \n",
        "Qual o maior valor observado de frequency? Qual o tipo (classe) dessa observação? Obs: utilizar o filtro do Pandas."
      ],
      "metadata": {
        "id": "LQDc_MNCuKcW"
      }
    },
    {
      "cell_type": "code",
      "source": [
        "import numpy as np\n",
        "#df1 = df['freq'] == df['freq'].max()\n",
        "#positions = np.flatnonzero(df1)\n",
        "#df.iloc[positions]['doouEm2007']\n",
        "\n",
        "df2 = df['freq'].idxmax()\n",
        "df.iloc[df2]['doouEm2007']\n"
      ],
      "metadata": {
        "id": "g8CcQz57uL4s",
        "colab": {
          "base_uri": "https://localhost:8080/"
        },
        "outputId": "e3acb200-2e9c-4b07-fb75-3796c485a5cd"
      },
      "execution_count": null,
      "outputs": [
        {
          "output_type": "execute_result",
          "data": {
            "text/plain": [
              "True"
            ]
          },
          "metadata": {},
          "execution_count": 31
        }
      ]
    },
    {
      "cell_type": "markdown",
      "source": [
        "## 9. \n",
        "Busque pelos exemplos de índice 0 e 50. Estas pessoas doaram no mês de Março de 2007?\n",
        "\n",
        "R: 31 pessoas doaram em Março de 2007"
      ],
      "metadata": {
        "id": "tnzXm54WuMIs"
      }
    },
    {
      "cell_type": "code",
      "source": [
        "df['doouEm2007'].iloc[0:50].value_counts()"
      ],
      "metadata": {
        "id": "Wd6aLqSZuN1E",
        "colab": {
          "base_uri": "https://localhost:8080/"
        },
        "outputId": "21685a32-e752-465f-f300-0d93f763a82a"
      },
      "execution_count": null,
      "outputs": [
        {
          "output_type": "execute_result",
          "data": {
            "text/plain": [
              "True     31\n",
              "False    19\n",
              "Name: doouEm2007, dtype: int64"
            ]
          },
          "metadata": {},
          "execution_count": 32
        }
      ]
    },
    {
      "cell_type": "markdown",
      "source": [
        "## 10. \n",
        "Existem outliers neste dataset? \n",
        "\n",
        "R. Sim, na coluna recenica, freq e volume"
      ],
      "metadata": {
        "id": "6nH0lFGiuOFs"
      }
    },
    {
      "cell_type": "code",
      "source": [
        "import seaborn as sns\n",
        "\n",
        "df_2 = df[['recenica', 'freq', 'ultimaVez']]\n",
        "sns.boxplot(data=df_2, palette=\"Set1\");"
      ],
      "metadata": {
        "id": "lqweDKbNuQJl",
        "colab": {
          "base_uri": "https://localhost:8080/",
          "height": 265
        },
        "outputId": "0b6cff79-4565-4102-9cb5-be91caae9e51"
      },
      "execution_count": null,
      "outputs": [
        {
          "output_type": "display_data",
          "data": {
            "text/plain": [
              "<Figure size 432x288 with 1 Axes>"
            ],
            "image/png": "[encoded data removed]"
          },
          "metadata": {
            "needs_background": "light"
          }
        }
      ]
    },
    {
      "cell_type": "code",
      "source": [
        "df_2 = df[['volume']]\n",
        "sns.boxplot(data=df_2, palette=\"Set1\");"
      ],
      "metadata": {
        "colab": {
          "base_uri": "https://localhost:8080/",
          "height": 265
        },
        "id": "26_xz8nH-DBJ",
        "outputId": "53c76dc3-499c-4882-8ab3-89f11863d381"
      },
      "execution_count": null,
      "outputs": [
        {
          "output_type": "display_data",
          "data": {
            "image/png": "[encoded data removed]",
            "text/plain": [
              "<Figure size 432x288 with 1 Axes>"
            ]
          },
          "metadata": {
            "needs_background": "light"
          }
        }
      ]
    },
    {
      "cell_type": "markdown",
      "source": [
        "##11. \n",
        "Calcule o intervalo interquartílico (IIQ) da coluna monetary. Quais são os limites inferior e superior?\n",
        "\n",
        "\n",
        "Intervalo interquartil  1250.0\n",
        "\n",
        "Superior -1375\n",
        "Inferior -1375\n"
      ],
      "metadata": {
        "id": "UCA_l61buQW0"
      }
    },
    {
      "cell_type": "code",
      "source": [
        "Q1 = df['volume'].quantile(0.25)\n",
        "Q3 = df['volume'].quantile(0.75)\n",
        "IQR = Q3 - Q1\n",
        "print('Intervalo interquartil ', IQR)"
      ],
      "metadata": {
        "id": "-xNmBLV4uSYQ",
        "colab": {
          "base_uri": "https://localhost:8080/"
        },
        "outputId": "64739087-b10a-4626-f684-09585796b0f2"
      },
      "execution_count": null,
      "outputs": [
        {
          "output_type": "stream",
          "name": "stdout",
          "text": [
            "Intervalo interquartil  1250.0\n"
          ]
        }
      ]
    },
    {
      "cell_type": "code",
      "source": [
        "bi = Q1 - 1.5*IQR\n",
        "bs = Q1 - 1.5*IQR\n",
        "\n",
        "(bi, bs)"
      ],
      "metadata": {
        "colab": {
          "base_uri": "https://localhost:8080/"
        },
        "id": "-EutFAs9-uOl",
        "outputId": "25b8bc38-2133-48fb-f9e4-f6c303dd6868"
      },
      "execution_count": null,
      "outputs": [
        {
          "output_type": "execute_result",
          "data": {
            "text/plain": [
              "(-1375.0, -1375.0)"
            ]
          },
          "metadata": {},
          "execution_count": 37
        }
      ]
    }
  ]
}