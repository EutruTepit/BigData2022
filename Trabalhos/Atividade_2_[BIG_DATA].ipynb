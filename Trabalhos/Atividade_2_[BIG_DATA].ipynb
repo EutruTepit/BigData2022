{
  "nbformat": 4,
  "nbformat_minor": 0,
  "metadata": {
    "colab": {
      "name": "Atividade 2 [BIG DATA].ipynb",
      "provenance": [],
      "collapsed_sections": []
    },
    "kernelspec": {
      "name": "python3",
      "display_name": "Python 3"
    },
    "language_info": {
      "name": "python"
    }
  },
  "cells": [
    {
      "cell_type": "markdown",
      "source": [
        "# Big Data & Data Analytics\n",
        "Atividade 2 - Exercícios com Pandas e visualização de Dados (duplas)\n",
        "\n",
        "Aulos: Welinton Haas, Luís Felippe Tomazini Fernandes"
      ],
      "metadata": {
        "id": "vrBN8C7QqzAP"
      }
    },
    {
      "cell_type": "markdown",
      "source": [
        "## 1. \n",
        "Carregue corretamente os dados sobre vinho, utilizando o seguinte link: https://archive.ics.uci.edu/ml/machine-learning-databases/wine/wine.data. Defina corretamente o nome das colunas e abrevie como/se achar necessário. A resposta para esta questão é o próprio código de carregamento usando Pandas."
      ],
      "metadata": {
        "id": "q0_j6ZKdqu72"
      }
    },
    {
      "cell_type": "code",
      "execution_count": null,
      "metadata": {
        "id": "ckT4ZF93s6sZ",
        "colab": {
          "base_uri": "https://localhost:8080/",
          "height": 206
        },
        "outputId": "37b4db59-6ae3-46e2-ba2b-181ec1a36981"
      },
      "outputs": [
        {
          "output_type": "execute_result",
          "data": {
            "text/html": [
              "\n",
              "  <div id=\"df-ce49034e-2381-435b-8640-0bc7c7e3f71f\">\n",
              "    <div class=\"colab-df-container\">\n",
              "      <div>\n",
              "<style scoped>\n",
              "    .dataframe tbody tr th:only-of-type {\n",
              "        vertical-align: middle;\n",
              "    }\n",
              "\n",
              "    .dataframe tbody tr th {\n",
              "        vertical-align: top;\n",
              "    }\n",
              "\n",
              "    .dataframe thead th {\n",
              "        text-align: right;\n",
              "    }\n",
              "</style>\n",
              "<table border=\"1\" class=\"dataframe\">\n",
              "  <thead>\n",
              "    <tr style=\"text-align: right;\">\n",
              "      <th></th>\n",
              "      <th>alcool</th>\n",
              "      <th>acidoM</th>\n",
              "      <th>cinzas</th>\n",
              "      <th>alcali_Cinza</th>\n",
              "      <th>magne</th>\n",
              "      <th>total_Fenol</th>\n",
              "      <th>flavo</th>\n",
              "      <th>fenol_N_Flavo</th>\n",
              "      <th>proanto</th>\n",
              "      <th>intensi_cor</th>\n",
              "      <th>tonalidade</th>\n",
              "      <th>diluidos</th>\n",
              "      <th>prolina</th>\n",
              "      <th>classe</th>\n",
              "    </tr>\n",
              "  </thead>\n",
              "  <tbody>\n",
              "    <tr>\n",
              "      <th>0</th>\n",
              "      <td>1</td>\n",
              "      <td>14.23</td>\n",
              "      <td>1.71</td>\n",
              "      <td>2.43</td>\n",
              "      <td>15.6</td>\n",
              "      <td>127</td>\n",
              "      <td>2.80</td>\n",
              "      <td>3.06</td>\n",
              "      <td>0.28</td>\n",
              "      <td>2.29</td>\n",
              "      <td>5.64</td>\n",
              "      <td>1.04</td>\n",
              "      <td>3.92</td>\n",
              "      <td>1065</td>\n",
              "    </tr>\n",
              "    <tr>\n",
              "      <th>1</th>\n",
              "      <td>1</td>\n",
              "      <td>13.20</td>\n",
              "      <td>1.78</td>\n",
              "      <td>2.14</td>\n",
              "      <td>11.2</td>\n",
              "      <td>100</td>\n",
              "      <td>2.65</td>\n",
              "      <td>2.76</td>\n",
              "      <td>0.26</td>\n",
              "      <td>1.28</td>\n",
              "      <td>4.38</td>\n",
              "      <td>1.05</td>\n",
              "      <td>3.40</td>\n",
              "      <td>1050</td>\n",
              "    </tr>\n",
              "    <tr>\n",
              "      <th>2</th>\n",
              "      <td>1</td>\n",
              "      <td>13.16</td>\n",
              "      <td>2.36</td>\n",
              "      <td>2.67</td>\n",
              "      <td>18.6</td>\n",
              "      <td>101</td>\n",
              "      <td>2.80</td>\n",
              "      <td>3.24</td>\n",
              "      <td>0.30</td>\n",
              "      <td>2.81</td>\n",
              "      <td>5.68</td>\n",
              "      <td>1.03</td>\n",
              "      <td>3.17</td>\n",
              "      <td>1185</td>\n",
              "    </tr>\n",
              "    <tr>\n",
              "      <th>3</th>\n",
              "      <td>1</td>\n",
              "      <td>14.37</td>\n",
              "      <td>1.95</td>\n",
              "      <td>2.50</td>\n",
              "      <td>16.8</td>\n",
              "      <td>113</td>\n",
              "      <td>3.85</td>\n",
              "      <td>3.49</td>\n",
              "      <td>0.24</td>\n",
              "      <td>2.18</td>\n",
              "      <td>7.80</td>\n",
              "      <td>0.86</td>\n",
              "      <td>3.45</td>\n",
              "      <td>1480</td>\n",
              "    </tr>\n",
              "    <tr>\n",
              "      <th>4</th>\n",
              "      <td>1</td>\n",
              "      <td>13.24</td>\n",
              "      <td>2.59</td>\n",
              "      <td>2.87</td>\n",
              "      <td>21.0</td>\n",
              "      <td>118</td>\n",
              "      <td>2.80</td>\n",
              "      <td>2.69</td>\n",
              "      <td>0.39</td>\n",
              "      <td>1.82</td>\n",
              "      <td>4.32</td>\n",
              "      <td>1.04</td>\n",
              "      <td>2.93</td>\n",
              "      <td>735</td>\n",
              "    </tr>\n",
              "  </tbody>\n",
              "</table>\n",
              "</div>\n",
              "      <button class=\"colab-df-convert\" onclick=\"convertToInteractive('df-ce49034e-2381-435b-8640-0bc7c7e3f71f')\"\n",
              "              title=\"Convert this dataframe to an interactive table.\"\n",
              "              style=\"display:none;\">\n",
              "        \n",
              "  <svg xmlns=\"http://www.w3.org/2000/svg\" height=\"24px\"viewBox=\"0 0 24 24\"\n",
              "       width=\"24px\">\n",
              "    <path d=\"M0 0h24v24H0V0z\" fill=\"none\"/>\n",
              "    <path d=\"M18.56 5.44l.94 2.06.94-2.06 2.06-.94-2.06-.94-.94-2.06-.94 2.06-2.06.94zm-11 1L8.5 8.5l.94-2.06 2.06-.94-2.06-.94L8.5 2.5l-.94 2.06-2.06.94zm10 10l.94 2.06.94-2.06 2.06-.94-2.06-.94-.94-2.06-.94 2.06-2.06.94z\"/><path d=\"M17.41 7.96l-1.37-1.37c-.4-.4-.92-.59-1.43-.59-.52 0-1.04.2-1.43.59L10.3 9.45l-7.72 7.72c-.78.78-.78 2.05 0 2.83L4 21.41c.39.39.9.59 1.41.59.51 0 1.02-.2 1.41-.59l7.78-7.78 2.81-2.81c.8-.78.8-2.07 0-2.86zM5.41 20L4 18.59l7.72-7.72 1.47 1.35L5.41 20z\"/>\n",
              "  </svg>\n",
              "      </button>\n",
              "      \n",
              "  <style>\n",
              "    .colab-df-container {\n",
              "      display:flex;\n",
              "      flex-wrap:wrap;\n",
              "      gap: 12px;\n",
              "    }\n",
              "\n",
              "    .colab-df-convert {\n",
              "      background-color: #E8F0FE;\n",
              "      border: none;\n",
              "      border-radius: 50%;\n",
              "      cursor: pointer;\n",
              "      display: none;\n",
              "      fill: #1967D2;\n",
              "      height: 32px;\n",
              "      padding: 0 0 0 0;\n",
              "      width: 32px;\n",
              "    }\n",
              "\n",
              "    .colab-df-convert:hover {\n",
              "      background-color: #E2EBFA;\n",
              "      box-shadow: 0px 1px 2px rgba(60, 64, 67, 0.3), 0px 1px 3px 1px rgba(60, 64, 67, 0.15);\n",
              "      fill: #174EA6;\n",
              "    }\n",
              "\n",
              "    [theme=dark] .colab-df-convert {\n",
              "      background-color: #3B4455;\n",
              "      fill: #D2E3FC;\n",
              "    }\n",
              "\n",
              "    [theme=dark] .colab-df-convert:hover {\n",
              "      background-color: #434B5C;\n",
              "      box-shadow: 0px 1px 3px 1px rgba(0, 0, 0, 0.15);\n",
              "      filter: drop-shadow(0px 1px 2px rgba(0, 0, 0, 0.3));\n",
              "      fill: #FFFFFF;\n",
              "    }\n",
              "  </style>\n",
              "\n",
              "      <script>\n",
              "        const buttonEl =\n",
              "          document.querySelector('#df-ce49034e-2381-435b-8640-0bc7c7e3f71f button.colab-df-convert');\n",
              "        buttonEl.style.display =\n",
              "          google.colab.kernel.accessAllowed ? 'block' : 'none';\n",
              "\n",
              "        async function convertToInteractive(key) {\n",
              "          const element = document.querySelector('#df-ce49034e-2381-435b-8640-0bc7c7e3f71f');\n",
              "          const dataTable =\n",
              "            await google.colab.kernel.invokeFunction('convertToInteractive',\n",
              "                                                     [key], {});\n",
              "          if (!dataTable) return;\n",
              "\n",
              "          const docLinkHtml = 'Like what you see? Visit the ' +\n",
              "            '<a target=\"_blank\" href=https://colab.research.google.com/notebooks/data_table.ipynb>data table notebook</a>'\n",
              "            + ' to learn more about interactive tables.';\n",
              "          element.innerHTML = '';\n",
              "          dataTable['output_type'] = 'display_data';\n",
              "          await google.colab.output.renderOutput(dataTable, element);\n",
              "          const docLink = document.createElement('div');\n",
              "          docLink.innerHTML = docLinkHtml;\n",
              "          element.appendChild(docLink);\n",
              "        }\n",
              "      </script>\n",
              "    </div>\n",
              "  </div>\n",
              "  "
            ],
            "text/plain": [
              "   alcool  acidoM  cinzas  alcali_Cinza  ...  tonalidade  diluidos  prolina  classe\n",
              "0       1   14.23    1.71          2.43  ...        5.64      1.04     3.92    1065\n",
              "1       1   13.20    1.78          2.14  ...        4.38      1.05     3.40    1050\n",
              "2       1   13.16    2.36          2.67  ...        5.68      1.03     3.17    1185\n",
              "3       1   14.37    1.95          2.50  ...        7.80      0.86     3.45    1480\n",
              "4       1   13.24    2.59          2.87  ...        4.32      1.04     2.93     735\n",
              "\n",
              "[5 rows x 14 columns]"
            ]
          },
          "metadata": {},
          "execution_count": 2
        }
      ],
      "source": [
        "import pandas as pd\n",
        "df = pd.read_csv(\"https://archive.ics.uci.edu/ml/machine-learning-databases/wine/wine.data\", names=[\n",
        "                                     'álcool',\n",
        "                                     'ácido málico',\n",
        "                                     'cinzas', \n",
        "                                     'alcalinidade da cinza',\n",
        "                                     'magnésio', \n",
        "                                     'total de fenóis', \n",
        "                                     'flavonóides', \n",
        "                                     'fenóis não-flavonoides', \n",
        "                                     'proantocianidinas', \n",
        "                                     'intensidade de cor', \n",
        "                                     'tonalidade', \n",
        "                                     'OD280/OD315 de vinhos diluídos', \n",
        "                                     'prolina',\n",
        "                                     'Classe'\n",
        "                                     ])\n",
        "\n",
        "remap={\n",
        "  'álcool': 'alcool',\n",
        "  'ácido málico': 'acidoM',\n",
        "  'cinzas': 'cinzas', \n",
        "  'alcalinidade da cinza': 'alcali_Cinza',\n",
        "  'magnésio': 'magne', \n",
        "  'total de fenóis': 'total_Fenol', \n",
        "  'flavonóides': 'flavo', \n",
        "  'fenóis não-flavonoides': 'fenol_N_Flavo', \n",
        "  'proantocianidinas': 'proanto', \n",
        "  'intensidade de cor': 'intensi_cor', \n",
        "  'tonalidade': 'tonalidade', \n",
        "  'OD280/OD315 de vinhos diluídos': \"diluidos\", \n",
        "  'prolina': 'prolina',\n",
        "  'Classe': 'classe'\n",
        "}\n",
        "\n",
        "df.rename(remap, axis=1, inplace=True)\n",
        "df.head()"
      ]
    },
    {
      "cell_type": "markdown",
      "source": [
        "## 2.\n",
        "Quais são os tipos das variáveis desse conjunto de dados? Há alguma coluna que não seja numérica? Se sim, qual?\n",
        "\n"
      ],
      "metadata": {
        "id": "VgmScVKMq19E"
      }
    },
    {
      "cell_type": "code",
      "source": [
        "df.info()"
      ],
      "metadata": {
        "colab": {
          "base_uri": "https://localhost:8080/"
        },
        "id": "lM26XShArYDr",
        "outputId": "d219faf3-291b-4734-ceeb-5f584883a894"
      },
      "execution_count": null,
      "outputs": [
        {
          "output_type": "stream",
          "name": "stdout",
          "text": [
            "<class 'pandas.core.frame.DataFrame'>\n",
            "RangeIndex: 178 entries, 0 to 177\n",
            "Data columns (total 14 columns):\n",
            " #   Column         Non-Null Count  Dtype  \n",
            "---  ------         --------------  -----  \n",
            " 0   alcool         178 non-null    int64  \n",
            " 1   acidoM         178 non-null    float64\n",
            " 2   cinzas         178 non-null    float64\n",
            " 3   alcali_Cinza   178 non-null    float64\n",
            " 4   magne          178 non-null    float64\n",
            " 5   total_Fenol    178 non-null    int64  \n",
            " 6   flavo          178 non-null    float64\n",
            " 7   fenol_N_Flavo  178 non-null    float64\n",
            " 8   proanto        178 non-null    float64\n",
            " 9   intensi_cor    178 non-null    float64\n",
            " 10  tonalidade     178 non-null    float64\n",
            " 11  diluidos       178 non-null    float64\n",
            " 12  prolina        178 non-null    float64\n",
            " 13  classe         178 non-null    int64  \n",
            "dtypes: float64(11), int64(3)\n",
            "memory usage: 19.6 KB\n"
          ]
        }
      ]
    },
    {
      "cell_type": "markdown",
      "source": [
        "## 3. \n",
        "Utilizando a funcionalidade de agrupamento do Pandas, descubra qual a quantidade de observações (linhas) por classe. Qual a classe com maior quantidade de observações? Obs.: Pesquisar por groupby + count ou value_counts\n",
        "\n"
      ],
      "metadata": {
        "id": "KA8Za-mGq6_i"
      }
    },
    {
      "cell_type": "code",
      "source": [
        "df.groupby('classe').count().max()"
      ],
      "metadata": {
        "colab": {
          "base_uri": "https://localhost:8080/"
        },
        "id": "wRxmj1IErYyV",
        "outputId": "f7facda9-2412-4332-c66c-3d0d7ebe1bca"
      },
      "execution_count": null,
      "outputs": [
        {
          "output_type": "execute_result",
          "data": {
            "text/plain": [
              "alcool           5\n",
              "acidoM           5\n",
              "cinzas           5\n",
              "alcali_Cinza     5\n",
              "magne            5\n",
              "total_Fenol      5\n",
              "flavo            5\n",
              "fenol_N_Flavo    5\n",
              "proanto          5\n",
              "intensi_cor      5\n",
              "tonalidade       5\n",
              "diluidos         5\n",
              "prolina          5\n",
              "dtype: int64"
            ]
          },
          "metadata": {},
          "execution_count": 4
        }
      ]
    },
    {
      "cell_type": "markdown",
      "source": [
        "## 4.\n",
        "Qual a coluna do conjunto de dados com maior desvio padrão (std)? Há alguma explicação?\n",
        "\n",
        "  R: O maior desvio pardrão é de total_Fenol, "
      ],
      "metadata": {
        "id": "4FdjkEdDq-Zd"
      }
    },
    {
      "cell_type": "code",
      "source": [
        "df.describe()"
      ],
      "metadata": {
        "colab": {
          "base_uri": "https://localhost:8080/",
          "height": 300
        },
        "id": "5roT1FxzrZqF",
        "outputId": "38276475-843f-4a6b-bbd5-db2584be2e01"
      },
      "execution_count": null,
      "outputs": [
        {
          "output_type": "execute_result",
          "data": {
            "text/html": [
              "\n",
              "  <div id=\"df-963c6592-7e8a-4038-b4ee-9cf657c7ccdf\">\n",
              "    <div class=\"colab-df-container\">\n",
              "      <div>\n",
              "<style scoped>\n",
              "    .dataframe tbody tr th:only-of-type {\n",
              "        vertical-align: middle;\n",
              "    }\n",
              "\n",
              "    .dataframe tbody tr th {\n",
              "        vertical-align: top;\n",
              "    }\n",
              "\n",
              "    .dataframe thead th {\n",
              "        text-align: right;\n",
              "    }\n",
              "</style>\n",
              "<table border=\"1\" class=\"dataframe\">\n",
              "  <thead>\n",
              "    <tr style=\"text-align: right;\">\n",
              "      <th></th>\n",
              "      <th>alcool</th>\n",
              "      <th>acidoM</th>\n",
              "      <th>cinzas</th>\n",
              "      <th>alcali_Cinza</th>\n",
              "      <th>magne</th>\n",
              "      <th>total_Fenol</th>\n",
              "      <th>flavo</th>\n",
              "      <th>fenol_N_Flavo</th>\n",
              "      <th>proanto</th>\n",
              "      <th>intensi_cor</th>\n",
              "      <th>tonalidade</th>\n",
              "      <th>diluidos</th>\n",
              "      <th>prolina</th>\n",
              "      <th>classe</th>\n",
              "    </tr>\n",
              "  </thead>\n",
              "  <tbody>\n",
              "    <tr>\n",
              "      <th>count</th>\n",
              "      <td>178.000000</td>\n",
              "      <td>178.000000</td>\n",
              "      <td>178.000000</td>\n",
              "      <td>178.000000</td>\n",
              "      <td>178.000000</td>\n",
              "      <td>178.000000</td>\n",
              "      <td>178.000000</td>\n",
              "      <td>178.000000</td>\n",
              "      <td>178.000000</td>\n",
              "      <td>178.000000</td>\n",
              "      <td>178.000000</td>\n",
              "      <td>178.000000</td>\n",
              "      <td>178.000000</td>\n",
              "      <td>178.000000</td>\n",
              "    </tr>\n",
              "    <tr>\n",
              "      <th>mean</th>\n",
              "      <td>1.938202</td>\n",
              "      <td>13.000618</td>\n",
              "      <td>2.336348</td>\n",
              "      <td>2.366517</td>\n",
              "      <td>19.494944</td>\n",
              "      <td>99.741573</td>\n",
              "      <td>2.295112</td>\n",
              "      <td>2.029270</td>\n",
              "      <td>0.361854</td>\n",
              "      <td>1.590899</td>\n",
              "      <td>5.058090</td>\n",
              "      <td>0.957449</td>\n",
              "      <td>2.611685</td>\n",
              "      <td>746.893258</td>\n",
              "    </tr>\n",
              "    <tr>\n",
              "      <th>std</th>\n",
              "      <td>0.775035</td>\n",
              "      <td>0.811827</td>\n",
              "      <td>1.117146</td>\n",
              "      <td>0.274344</td>\n",
              "      <td>3.339564</td>\n",
              "      <td>14.282484</td>\n",
              "      <td>0.625851</td>\n",
              "      <td>0.998859</td>\n",
              "      <td>0.124453</td>\n",
              "      <td>0.572359</td>\n",
              "      <td>2.318286</td>\n",
              "      <td>0.228572</td>\n",
              "      <td>0.709990</td>\n",
              "      <td>314.907474</td>\n",
              "    </tr>\n",
              "    <tr>\n",
              "      <th>min</th>\n",
              "      <td>1.000000</td>\n",
              "      <td>11.030000</td>\n",
              "      <td>0.740000</td>\n",
              "      <td>1.360000</td>\n",
              "      <td>10.600000</td>\n",
              "      <td>70.000000</td>\n",
              "      <td>0.980000</td>\n",
              "      <td>0.340000</td>\n",
              "      <td>0.130000</td>\n",
              "      <td>0.410000</td>\n",
              "      <td>1.280000</td>\n",
              "      <td>0.480000</td>\n",
              "      <td>1.270000</td>\n",
              "      <td>278.000000</td>\n",
              "    </tr>\n",
              "    <tr>\n",
              "      <th>25%</th>\n",
              "      <td>1.000000</td>\n",
              "      <td>12.362500</td>\n",
              "      <td>1.602500</td>\n",
              "      <td>2.210000</td>\n",
              "      <td>17.200000</td>\n",
              "      <td>88.000000</td>\n",
              "      <td>1.742500</td>\n",
              "      <td>1.205000</td>\n",
              "      <td>0.270000</td>\n",
              "      <td>1.250000</td>\n",
              "      <td>3.220000</td>\n",
              "      <td>0.782500</td>\n",
              "      <td>1.937500</td>\n",
              "      <td>500.500000</td>\n",
              "    </tr>\n",
              "    <tr>\n",
              "      <th>50%</th>\n",
              "      <td>2.000000</td>\n",
              "      <td>13.050000</td>\n",
              "      <td>1.865000</td>\n",
              "      <td>2.360000</td>\n",
              "      <td>19.500000</td>\n",
              "      <td>98.000000</td>\n",
              "      <td>2.355000</td>\n",
              "      <td>2.135000</td>\n",
              "      <td>0.340000</td>\n",
              "      <td>1.555000</td>\n",
              "      <td>4.690000</td>\n",
              "      <td>0.965000</td>\n",
              "      <td>2.780000</td>\n",
              "      <td>673.500000</td>\n",
              "    </tr>\n",
              "    <tr>\n",
              "      <th>75%</th>\n",
              "      <td>3.000000</td>\n",
              "      <td>13.677500</td>\n",
              "      <td>3.082500</td>\n",
              "      <td>2.557500</td>\n",
              "      <td>21.500000</td>\n",
              "      <td>107.000000</td>\n",
              "      <td>2.800000</td>\n",
              "      <td>2.875000</td>\n",
              "      <td>0.437500</td>\n",
              "      <td>1.950000</td>\n",
              "      <td>6.200000</td>\n",
              "      <td>1.120000</td>\n",
              "      <td>3.170000</td>\n",
              "      <td>985.000000</td>\n",
              "    </tr>\n",
              "    <tr>\n",
              "      <th>max</th>\n",
              "      <td>3.000000</td>\n",
              "      <td>14.830000</td>\n",
              "      <td>5.800000</td>\n",
              "      <td>3.230000</td>\n",
              "      <td>30.000000</td>\n",
              "      <td>162.000000</td>\n",
              "      <td>3.880000</td>\n",
              "      <td>5.080000</td>\n",
              "      <td>0.660000</td>\n",
              "      <td>3.580000</td>\n",
              "      <td>13.000000</td>\n",
              "      <td>1.710000</td>\n",
              "      <td>4.000000</td>\n",
              "      <td>1680.000000</td>\n",
              "    </tr>\n",
              "  </tbody>\n",
              "</table>\n",
              "</div>\n",
              "      <button class=\"colab-df-convert\" onclick=\"convertToInteractive('df-963c6592-7e8a-4038-b4ee-9cf657c7ccdf')\"\n",
              "              title=\"Convert this dataframe to an interactive table.\"\n",
              "              style=\"display:none;\">\n",
              "        \n",
              "  <svg xmlns=\"http://www.w3.org/2000/svg\" height=\"24px\"viewBox=\"0 0 24 24\"\n",
              "       width=\"24px\">\n",
              "    <path d=\"M0 0h24v24H0V0z\" fill=\"none\"/>\n",
              "    <path d=\"M18.56 5.44l.94 2.06.94-2.06 2.06-.94-2.06-.94-.94-2.06-.94 2.06-2.06.94zm-11 1L8.5 8.5l.94-2.06 2.06-.94-2.06-.94L8.5 2.5l-.94 2.06-2.06.94zm10 10l.94 2.06.94-2.06 2.06-.94-2.06-.94-.94-2.06-.94 2.06-2.06.94z\"/><path d=\"M17.41 7.96l-1.37-1.37c-.4-.4-.92-.59-1.43-.59-.52 0-1.04.2-1.43.59L10.3 9.45l-7.72 7.72c-.78.78-.78 2.05 0 2.83L4 21.41c.39.39.9.59 1.41.59.51 0 1.02-.2 1.41-.59l7.78-7.78 2.81-2.81c.8-.78.8-2.07 0-2.86zM5.41 20L4 18.59l7.72-7.72 1.47 1.35L5.41 20z\"/>\n",
              "  </svg>\n",
              "      </button>\n",
              "      \n",
              "  <style>\n",
              "    .colab-df-container {\n",
              "      display:flex;\n",
              "      flex-wrap:wrap;\n",
              "      gap: 12px;\n",
              "    }\n",
              "\n",
              "    .colab-df-convert {\n",
              "      background-color: #E8F0FE;\n",
              "      border: none;\n",
              "      border-radius: 50%;\n",
              "      cursor: pointer;\n",
              "      display: none;\n",
              "      fill: #1967D2;\n",
              "      height: 32px;\n",
              "      padding: 0 0 0 0;\n",
              "      width: 32px;\n",
              "    }\n",
              "\n",
              "    .colab-df-convert:hover {\n",
              "      background-color: #E2EBFA;\n",
              "      box-shadow: 0px 1px 2px rgba(60, 64, 67, 0.3), 0px 1px 3px 1px rgba(60, 64, 67, 0.15);\n",
              "      fill: #174EA6;\n",
              "    }\n",
              "\n",
              "    [theme=dark] .colab-df-convert {\n",
              "      background-color: #3B4455;\n",
              "      fill: #D2E3FC;\n",
              "    }\n",
              "\n",
              "    [theme=dark] .colab-df-convert:hover {\n",
              "      background-color: #434B5C;\n",
              "      box-shadow: 0px 1px 3px 1px rgba(0, 0, 0, 0.15);\n",
              "      filter: drop-shadow(0px 1px 2px rgba(0, 0, 0, 0.3));\n",
              "      fill: #FFFFFF;\n",
              "    }\n",
              "  </style>\n",
              "\n",
              "      <script>\n",
              "        const buttonEl =\n",
              "          document.querySelector('#df-963c6592-7e8a-4038-b4ee-9cf657c7ccdf button.colab-df-convert');\n",
              "        buttonEl.style.display =\n",
              "          google.colab.kernel.accessAllowed ? 'block' : 'none';\n",
              "\n",
              "        async function convertToInteractive(key) {\n",
              "          const element = document.querySelector('#df-963c6592-7e8a-4038-b4ee-9cf657c7ccdf');\n",
              "          const dataTable =\n",
              "            await google.colab.kernel.invokeFunction('convertToInteractive',\n",
              "                                                     [key], {});\n",
              "          if (!dataTable) return;\n",
              "\n",
              "          const docLinkHtml = 'Like what you see? Visit the ' +\n",
              "            '<a target=\"_blank\" href=https://colab.research.google.com/notebooks/data_table.ipynb>data table notebook</a>'\n",
              "            + ' to learn more about interactive tables.';\n",
              "          element.innerHTML = '';\n",
              "          dataTable['output_type'] = 'display_data';\n",
              "          await google.colab.output.renderOutput(dataTable, element);\n",
              "          const docLink = document.createElement('div');\n",
              "          docLink.innerHTML = docLinkHtml;\n",
              "          element.appendChild(docLink);\n",
              "        }\n",
              "      </script>\n",
              "    </div>\n",
              "  </div>\n",
              "  "
            ],
            "text/plain": [
              "           alcool      acidoM      cinzas  ...    diluidos     prolina       classe\n",
              "count  178.000000  178.000000  178.000000  ...  178.000000  178.000000   178.000000\n",
              "mean     1.938202   13.000618    2.336348  ...    0.957449    2.611685   746.893258\n",
              "std      0.775035    0.811827    1.117146  ...    0.228572    0.709990   314.907474\n",
              "min      1.000000   11.030000    0.740000  ...    0.480000    1.270000   278.000000\n",
              "25%      1.000000   12.362500    1.602500  ...    0.782500    1.937500   500.500000\n",
              "50%      2.000000   13.050000    1.865000  ...    0.965000    2.780000   673.500000\n",
              "75%      3.000000   13.677500    3.082500  ...    1.120000    3.170000   985.000000\n",
              "max      3.000000   14.830000    5.800000  ...    1.710000    4.000000  1680.000000\n",
              "\n",
              "[8 rows x 14 columns]"
            ]
          },
          "metadata": {},
          "execution_count": 5
        }
      ]
    },
    {
      "cell_type": "markdown",
      "source": [
        "## 5.\n",
        "Observando o histograma da coluna ácido málico (malic acid), o que pode ser inferido? \n",
        "\n",
        "R: É dificil distinguir as classes em grupos."
      ],
      "metadata": {
        "id": "_OXQG6oUrBFZ"
      }
    },
    {
      "cell_type": "code",
      "source": [
        "df.hist(column='acidoM');"
      ],
      "metadata": {
        "colab": {
          "base_uri": "https://localhost:8080/",
          "height": 281
        },
        "id": "Ld_reXxDraJ5",
        "outputId": "f5d2116f-1f6c-4ed1-cd0c-62896307f014"
      },
      "execution_count": null,
      "outputs": [
        {
          "output_type": "display_data",
          "data": {
            "image/png": "[encoded data removed]",
            "text/plain": [
              "<Figure size 432x288 with 1 Axes>"
            ]
          },
          "metadata": {
            "needs_background": "light"
          }
        }
      ]
    },
    {
      "cell_type": "markdown",
      "source": [
        "## 6.\n",
        "Observando o histograma da coluna \"álcool\", o que pode ser inferido?\n",
        "\n",
        "R: Existe 3 grupos de álcool bem distintos.\n",
        "\n"
      ],
      "metadata": {
        "id": "1hc-ULRrrDoj"
      }
    },
    {
      "cell_type": "code",
      "source": [
        "df.hist(column='alcool');"
      ],
      "metadata": {
        "colab": {
          "base_uri": "https://localhost:8080/",
          "height": 281
        },
        "id": "nKUTz3kZral5",
        "outputId": "6b00dd9a-5ad8-4498-aa5d-958f4df5bfa3"
      },
      "execution_count": null,
      "outputs": [
        {
          "output_type": "display_data",
          "data": {
            "image/png": "[encoded data removed]",
            "text/plain": [
              "<Figure size 432x288 with 1 Axes>"
            ]
          },
          "metadata": {
            "needs_background": "light"
          }
        }
      ]
    },
    {
      "cell_type": "markdown",
      "source": [
        "## 7.\n",
        "Qual o maior valor observado de nível de álcool?\n",
        "\n"
      ],
      "metadata": {
        "id": "a7S5fbeorKxR"
      }
    },
    {
      "cell_type": "code",
      "source": [
        "df['alcool'].max()"
      ],
      "metadata": {
        "colab": {
          "base_uri": "https://localhost:8080/"
        },
        "id": "mXC8OkByra9v",
        "outputId": "fd0d35fe-f78d-4490-ac52-a6be55d56a59"
      },
      "execution_count": null,
      "outputs": [
        {
          "output_type": "execute_result",
          "data": {
            "text/plain": [
              "3"
            ]
          },
          "metadata": {},
          "execution_count": 8
        }
      ]
    },
    {
      "cell_type": "markdown",
      "source": [
        "## 8.\n",
        "Qual o menor valor observado de cinzas? Qual o tipo (classe) dessa observação? Obs: utilizar o filtro do Pandas.\n"
      ],
      "metadata": {
        "id": "ntgoRuwgrNWN"
      }
    },
    {
      "cell_type": "code",
      "source": [
        "df['cinzas'].min()"
      ],
      "metadata": {
        "colab": {
          "base_uri": "https://localhost:8080/"
        },
        "id": "jRRQLXmarbbO",
        "outputId": "6fe19630-2c05-4c55-a2c1-de90b8171486"
      },
      "execution_count": null,
      "outputs": [
        {
          "output_type": "execute_result",
          "data": {
            "text/plain": [
              "0.74"
            ]
          },
          "metadata": {},
          "execution_count": 9
        }
      ]
    },
    {
      "cell_type": "markdown",
      "source": [
        "## 9.\n",
        "Busque pelos exemplos de índice 0 e 100. Qual a classe deles?\n",
        "\n"
      ],
      "metadata": {
        "id": "O4KtZ2pFrPbf"
      }
    },
    {
      "cell_type": "code",
      "source": [
        "df.iloc[[0, 100]]['classe']"
      ],
      "metadata": {
        "colab": {
          "base_uri": "https://localhost:8080/"
        },
        "id": "eCc8Wabfrbzp",
        "outputId": "92d4ae40-d19e-4f77-9cf6-b0fc7fecb8ac"
      },
      "execution_count": null,
      "outputs": [
        {
          "output_type": "execute_result",
          "data": {
            "text/plain": [
              "0      1065\n",
              "100     710\n",
              "Name: classe, dtype: int64"
            ]
          },
          "metadata": {},
          "execution_count": 10
        }
      ]
    },
    {
      "cell_type": "markdown",
      "source": [
        "## 10.\n",
        "Alguma das colunas possuem outliers? Quais?\n",
        "\n",
        "cinzas, alcali_Cinza,magme,total_Fenol,intensi_cor,tonalidade,diluidos\n",
        "\n"
      ],
      "metadata": {
        "id": "I9cgXStRrS7j"
      }
    },
    {
      "cell_type": "code",
      "source": [
        "import seaborn as sns\n",
        "#sns.boxplot(data = df, y = \"cinzas\")\n",
        "#sns.boxplot(data = df, y = \"alcali_Cinza\")\n",
        "#sns.boxplot(data = df, y = \"magne\")\n",
        "#sns.boxplot(data = df, y = \"total_Fenol\")\n",
        "#sns.boxplot(data = df, y = \"intensi_cor\")\n",
        "#sns.boxplot(data = df, y = \"tonalidade\")\n",
        "#sns.boxplot(data = df, y = \"diluidos\")\n",
        "df_2 = df[['cinzas', 'alcali_Cinza', 'magne', 'total_Fenol', 'intensi_cor', 'tonalidade', 'diluidos']]\n",
        "sns.boxplot(data=df_2, orient=\"h\", palette=\"Set1\")"
      ],
      "metadata": {
        "id": "rHRIupUg3NnJ",
        "colab": {
          "base_uri": "https://localhost:8080/",
          "height": 282
        },
        "outputId": "fe051e9f-2b09-4454-c528-81d94e55456d"
      },
      "execution_count": null,
      "outputs": [
        {
          "output_type": "execute_result",
          "data": {
            "text/plain": [
              "<matplotlib.axes._subplots.AxesSubplot at 0x7f50a7722250>"
            ]
          },
          "metadata": {},
          "execution_count": 11
        },
        {
          "output_type": "display_data",
          "data": {
            "image/png": "[encoded data removed]",
            "text/plain": [
              "<Figure size 432x288 with 1 Axes>"
            ]
          },
          "metadata": {
            "needs_background": "light"
          }
        }
      ]
    },
    {
      "cell_type": "markdown",
      "source": [
        "## 11.\n",
        "Calcule o intervalo interquartil (IIQ), o max e o min da coluna magnésio."
      ],
      "metadata": {
        "id": "HFPr3lt9rVjd"
      }
    },
    {
      "cell_type": "code",
      "source": [
        "print(df['magne'].max())\n",
        "print(df['magne'].min())\n",
        "\n",
        "Q1 = df['magne'].quantile(0.25)\n",
        "Q3 = df['magne'].quantile(0.75)\n",
        "IQR = Q3 - Q1\n",
        "print('Intervalo interquartil ', IQR)"
      ],
      "metadata": {
        "id": "gPcJU0zwrWat",
        "colab": {
          "base_uri": "https://localhost:8080/"
        },
        "outputId": "054f6be9-a843-452a-df90-e2669a697ae8"
      },
      "execution_count": null,
      "outputs": [
        {
          "output_type": "stream",
          "name": "stdout",
          "text": [
            "30.0\n",
            "10.6\n",
            "Intervalo interquartil  4.300000000000001\n"
          ]
        }
      ]
    }
  ]
}