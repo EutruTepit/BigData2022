{
  "nbformat": 4,
  "nbformat_minor": 0,
  "metadata": {
    "colab": {
      "name": "Correção Atividade 2 ",
      "provenance": [],
      "collapsed_sections": [],
      "include_colab_link": true
    },
    "kernelspec": {
      "name": "python3",
      "display_name": "Python 3"
    },
    "language_info": {
      "name": "python"
    }
  },
  "cells": [
    {
      "cell_type": "markdown",
      "metadata": {
        "id": "view-in-github",
        "colab_type": "text"
      },
      "source": [
        "<a href=\"https://colab.research.google.com/github/EutruTepit/BigData2022/blob/main/Trabalhos/Atividade_2_%5BBIG_DATA%5D.ipynb\" target=\"_parent\"><img src=\"https://colab.research.google.com/assets/colab-badge.svg\" alt=\"Open In Colab\"/></a>"
      ]
    },
    {
      "cell_type": "markdown",
      "source": [
        "# Big Data & Data Analytics\n",
        "Atividade 2 - Exercícios com Pandas e visualização de Dados (duplas)\n",
        "\n",
        "Aulos: Welinton Haas, Luís Felippe Tomazini Fernandes"
      ],
      "metadata": {
        "id": "tDEDt2gQQT1a"
      }
    },
    {
      "cell_type": "markdown",
      "source": [
        "## 1. Carregamento dos dados\n",
        "\n",
        "Contém 14 colunas: classe, e (álcool, ácido málico, cinzas, alcalinidade da cinza, magnésio, total de fenóis, flavonóides, fenóis não-flavonoides, proantocianinas, intensidade de cor, tonalidade, OD280/OD315 de vinhos diluídos, prolina)\n",
        "\n",
        "Carregue corretamente os dados sobre vinho, utilizando o seguinte link: https://archive.ics.uci.edu/ml/machine-learning-databases/wine/wine.data. Defina corretamente o nome das colunas e abrevie como/se achar necessário. A resposta para esta questão é o próprio código de carregamento usando Pandas."
      ],
      "metadata": {
        "id": "68BHje3fQhNH"
      }
    },
    {
      "cell_type": "code",
      "execution_count": 91,
      "metadata": {
        "id": "56LikFsTQLkd",
        "colab": {
          "base_uri": "https://localhost:8080/",
          "height": 206
        },
        "outputId": "5c3dba26-de26-47a6-fb8e-81e52eda7019"
      },
      "outputs": [
        {
          "output_type": "execute_result",
          "data": {
            "text/html": [
              "\n",
              "  <div id=\"df-6ac8a4a3-9a2f-4890-af74-8a39a2b670c9\">\n",
              "    <div class=\"colab-df-container\">\n",
              "      <div>\n",
              "<style scoped>\n",
              "    .dataframe tbody tr th:only-of-type {\n",
              "        vertical-align: middle;\n",
              "    }\n",
              "\n",
              "    .dataframe tbody tr th {\n",
              "        vertical-align: top;\n",
              "    }\n",
              "\n",
              "    .dataframe thead th {\n",
              "        text-align: right;\n",
              "    }\n",
              "</style>\n",
              "<table border=\"1\" class=\"dataframe\">\n",
              "  <thead>\n",
              "    <tr style=\"text-align: right;\">\n",
              "      <th></th>\n",
              "      <th>classe</th>\n",
              "      <th>alcool</th>\n",
              "      <th>acidoM</th>\n",
              "      <th>cinzas</th>\n",
              "      <th>alcali_Cinza</th>\n",
              "      <th>magne</th>\n",
              "      <th>total_Fenol</th>\n",
              "      <th>flavo</th>\n",
              "      <th>fenol_N_Flavo</th>\n",
              "      <th>proanto</th>\n",
              "      <th>intensi_cor</th>\n",
              "      <th>tonalidade</th>\n",
              "      <th>diluidos</th>\n",
              "      <th>prolina</th>\n",
              "    </tr>\n",
              "  </thead>\n",
              "  <tbody>\n",
              "    <tr>\n",
              "      <th>0</th>\n",
              "      <td>1</td>\n",
              "      <td>14.23</td>\n",
              "      <td>1.71</td>\n",
              "      <td>2.43</td>\n",
              "      <td>15.6</td>\n",
              "      <td>127</td>\n",
              "      <td>2.80</td>\n",
              "      <td>3.06</td>\n",
              "      <td>0.28</td>\n",
              "      <td>2.29</td>\n",
              "      <td>5.64</td>\n",
              "      <td>1.04</td>\n",
              "      <td>3.92</td>\n",
              "      <td>1065</td>\n",
              "    </tr>\n",
              "    <tr>\n",
              "      <th>1</th>\n",
              "      <td>1</td>\n",
              "      <td>13.20</td>\n",
              "      <td>1.78</td>\n",
              "      <td>2.14</td>\n",
              "      <td>11.2</td>\n",
              "      <td>100</td>\n",
              "      <td>2.65</td>\n",
              "      <td>2.76</td>\n",
              "      <td>0.26</td>\n",
              "      <td>1.28</td>\n",
              "      <td>4.38</td>\n",
              "      <td>1.05</td>\n",
              "      <td>3.40</td>\n",
              "      <td>1050</td>\n",
              "    </tr>\n",
              "    <tr>\n",
              "      <th>2</th>\n",
              "      <td>1</td>\n",
              "      <td>13.16</td>\n",
              "      <td>2.36</td>\n",
              "      <td>2.67</td>\n",
              "      <td>18.6</td>\n",
              "      <td>101</td>\n",
              "      <td>2.80</td>\n",
              "      <td>3.24</td>\n",
              "      <td>0.30</td>\n",
              "      <td>2.81</td>\n",
              "      <td>5.68</td>\n",
              "      <td>1.03</td>\n",
              "      <td>3.17</td>\n",
              "      <td>1185</td>\n",
              "    </tr>\n",
              "    <tr>\n",
              "      <th>3</th>\n",
              "      <td>1</td>\n",
              "      <td>14.37</td>\n",
              "      <td>1.95</td>\n",
              "      <td>2.50</td>\n",
              "      <td>16.8</td>\n",
              "      <td>113</td>\n",
              "      <td>3.85</td>\n",
              "      <td>3.49</td>\n",
              "      <td>0.24</td>\n",
              "      <td>2.18</td>\n",
              "      <td>7.80</td>\n",
              "      <td>0.86</td>\n",
              "      <td>3.45</td>\n",
              "      <td>1480</td>\n",
              "    </tr>\n",
              "    <tr>\n",
              "      <th>4</th>\n",
              "      <td>1</td>\n",
              "      <td>13.24</td>\n",
              "      <td>2.59</td>\n",
              "      <td>2.87</td>\n",
              "      <td>21.0</td>\n",
              "      <td>118</td>\n",
              "      <td>2.80</td>\n",
              "      <td>2.69</td>\n",
              "      <td>0.39</td>\n",
              "      <td>1.82</td>\n",
              "      <td>4.32</td>\n",
              "      <td>1.04</td>\n",
              "      <td>2.93</td>\n",
              "      <td>735</td>\n",
              "    </tr>\n",
              "  </tbody>\n",
              "</table>\n",
              "</div>\n",
              "      <button class=\"colab-df-convert\" onclick=\"convertToInteractive('df-6ac8a4a3-9a2f-4890-af74-8a39a2b670c9')\"\n",
              "              title=\"Convert this dataframe to an interactive table.\"\n",
              "              style=\"display:none;\">\n",
              "        \n",
              "  <svg xmlns=\"http://www.w3.org/2000/svg\" height=\"24px\"viewBox=\"0 0 24 24\"\n",
              "       width=\"24px\">\n",
              "    <path d=\"M0 0h24v24H0V0z\" fill=\"none\"/>\n",
              "    <path d=\"M18.56 5.44l.94 2.06.94-2.06 2.06-.94-2.06-.94-.94-2.06-.94 2.06-2.06.94zm-11 1L8.5 8.5l.94-2.06 2.06-.94-2.06-.94L8.5 2.5l-.94 2.06-2.06.94zm10 10l.94 2.06.94-2.06 2.06-.94-2.06-.94-.94-2.06-.94 2.06-2.06.94z\"/><path d=\"M17.41 7.96l-1.37-1.37c-.4-.4-.92-.59-1.43-.59-.52 0-1.04.2-1.43.59L10.3 9.45l-7.72 7.72c-.78.78-.78 2.05 0 2.83L4 21.41c.39.39.9.59 1.41.59.51 0 1.02-.2 1.41-.59l7.78-7.78 2.81-2.81c.8-.78.8-2.07 0-2.86zM5.41 20L4 18.59l7.72-7.72 1.47 1.35L5.41 20z\"/>\n",
              "  </svg>\n",
              "      </button>\n",
              "      \n",
              "  <style>\n",
              "    .colab-df-container {\n",
              "      display:flex;\n",
              "      flex-wrap:wrap;\n",
              "      gap: 12px;\n",
              "    }\n",
              "\n",
              "    .colab-df-convert {\n",
              "      background-color: #E8F0FE;\n",
              "      border: none;\n",
              "      border-radius: 50%;\n",
              "      cursor: pointer;\n",
              "      display: none;\n",
              "      fill: #1967D2;\n",
              "      height: 32px;\n",
              "      padding: 0 0 0 0;\n",
              "      width: 32px;\n",
              "    }\n",
              "\n",
              "    .colab-df-convert:hover {\n",
              "      background-color: #E2EBFA;\n",
              "      box-shadow: 0px 1px 2px rgba(60, 64, 67, 0.3), 0px 1px 3px 1px rgba(60, 64, 67, 0.15);\n",
              "      fill: #174EA6;\n",
              "    }\n",
              "\n",
              "    [theme=dark] .colab-df-convert {\n",
              "      background-color: #3B4455;\n",
              "      fill: #D2E3FC;\n",
              "    }\n",
              "\n",
              "    [theme=dark] .colab-df-convert:hover {\n",
              "      background-color: #434B5C;\n",
              "      box-shadow: 0px 1px 3px 1px rgba(0, 0, 0, 0.15);\n",
              "      filter: drop-shadow(0px 1px 2px rgba(0, 0, 0, 0.3));\n",
              "      fill: #FFFFFF;\n",
              "    }\n",
              "  </style>\n",
              "\n",
              "      <script>\n",
              "        const buttonEl =\n",
              "          document.querySelector('#df-6ac8a4a3-9a2f-4890-af74-8a39a2b670c9 button.colab-df-convert');\n",
              "        buttonEl.style.display =\n",
              "          google.colab.kernel.accessAllowed ? 'block' : 'none';\n",
              "\n",
              "        async function convertToInteractive(key) {\n",
              "          const element = document.querySelector('#df-6ac8a4a3-9a2f-4890-af74-8a39a2b670c9');\n",
              "          const dataTable =\n",
              "            await google.colab.kernel.invokeFunction('convertToInteractive',\n",
              "                                                     [key], {});\n",
              "          if (!dataTable) return;\n",
              "\n",
              "          const docLinkHtml = 'Like what you see? Visit the ' +\n",
              "            '<a target=\"_blank\" href=https://colab.research.google.com/notebooks/data_table.ipynb>data table notebook</a>'\n",
              "            + ' to learn more about interactive tables.';\n",
              "          element.innerHTML = '';\n",
              "          dataTable['output_type'] = 'display_data';\n",
              "          await google.colab.output.renderOutput(dataTable, element);\n",
              "          const docLink = document.createElement('div');\n",
              "          docLink.innerHTML = docLinkHtml;\n",
              "          element.appendChild(docLink);\n",
              "        }\n",
              "      </script>\n",
              "    </div>\n",
              "  </div>\n",
              "  "
            ],
            "text/plain": [
              "   classe  alcool  acidoM  cinzas  alcali_Cinza  magne  total_Fenol  flavo  \\\n",
              "0       1   14.23    1.71    2.43          15.6    127         2.80   3.06   \n",
              "1       1   13.20    1.78    2.14          11.2    100         2.65   2.76   \n",
              "2       1   13.16    2.36    2.67          18.6    101         2.80   3.24   \n",
              "3       1   14.37    1.95    2.50          16.8    113         3.85   3.49   \n",
              "4       1   13.24    2.59    2.87          21.0    118         2.80   2.69   \n",
              "\n",
              "   fenol_N_Flavo  proanto  intensi_cor  tonalidade  diluidos  prolina  \n",
              "0           0.28     2.29         5.64        1.04      3.92     1065  \n",
              "1           0.26     1.28         4.38        1.05      3.40     1050  \n",
              "2           0.30     2.81         5.68        1.03      3.17     1185  \n",
              "3           0.24     2.18         7.80        0.86      3.45     1480  \n",
              "4           0.39     1.82         4.32        1.04      2.93      735  "
            ]
          },
          "metadata": {},
          "execution_count": 91
        }
      ],
      "source": [
        "import pandas as pd\n",
        "df = pd.read_csv(\"https://archive.ics.uci.edu/ml/machine-learning-databases/wine/wine.data\", names=[\n",
        "                                     'Classe',\n",
        "                                     'álcool',\n",
        "                                     'ácido málico',\n",
        "                                     'cinzas', \n",
        "                                     'alcalinidade da cinza',\n",
        "                                     'magnésio', \n",
        "                                     'total de fenóis', \n",
        "                                     'flavonóides', \n",
        "                                     'fenóis não-flavonoides', \n",
        "                                     'proantocianidinas', \n",
        "                                     'intensidade de cor', \n",
        "                                     'tonalidade', \n",
        "                                     'OD280/OD315 de vinhos diluídos', \n",
        "                                     'prolina'\n",
        "                                     ])\n",
        "\n",
        "remap={\n",
        "  'Classe': 'classe',\n",
        "  'álcool': 'alcool',\n",
        "  'ácido málico': 'acidoM',\n",
        "  'cinzas': 'cinzas', \n",
        "  'alcalinidade da cinza': 'alcali_Cinza',\n",
        "  'magnésio': 'magne', \n",
        "  'total de fenóis': 'total_Fenol', \n",
        "  'flavonóides': 'flavo', \n",
        "  'fenóis não-flavonoides': 'fenol_N_Flavo', \n",
        "  'proantocianidinas': 'proanto', \n",
        "  'intensidade de cor': 'intensi_cor', \n",
        "  'tonalidade': 'tonalidade', \n",
        "  'OD280/OD315 de vinhos diluídos': \"diluidos\", \n",
        "  'prolina': 'prolina'\n",
        "}\n",
        "\n",
        "df.rename(remap, axis=1, inplace=True)\n",
        "df.head()"
      ]
    },
    {
      "cell_type": "markdown",
      "source": [
        "## 2. Quais são os tipos das variáveis desse conjunto de dados? Há alguma coluna que não seja numérica? Se sim, qual?"
      ],
      "metadata": {
        "id": "A-8NiyH0Qu87"
      }
    },
    {
      "cell_type": "code",
      "source": [
        "df.info()"
      ],
      "metadata": {
        "id": "13uHWoE6Q0cJ",
        "colab": {
          "base_uri": "https://localhost:8080/"
        },
        "outputId": "723e0889-ec91-45fd-d9df-2ec4f088575a"
      },
      "execution_count": 92,
      "outputs": [
        {
          "output_type": "stream",
          "name": "stdout",
          "text": [
            "<class 'pandas.core.frame.DataFrame'>\n",
            "RangeIndex: 178 entries, 0 to 177\n",
            "Data columns (total 14 columns):\n",
            " #   Column         Non-Null Count  Dtype  \n",
            "---  ------         --------------  -----  \n",
            " 0   classe         178 non-null    int64  \n",
            " 1   alcool         178 non-null    float64\n",
            " 2   acidoM         178 non-null    float64\n",
            " 3   cinzas         178 non-null    float64\n",
            " 4   alcali_Cinza   178 non-null    float64\n",
            " 5   magne          178 non-null    int64  \n",
            " 6   total_Fenol    178 non-null    float64\n",
            " 7   flavo          178 non-null    float64\n",
            " 8   fenol_N_Flavo  178 non-null    float64\n",
            " 9   proanto        178 non-null    float64\n",
            " 10  intensi_cor    178 non-null    float64\n",
            " 11  tonalidade     178 non-null    float64\n",
            " 12  diluidos       178 non-null    float64\n",
            " 13  prolina        178 non-null    int64  \n",
            "dtypes: float64(11), int64(3)\n",
            "memory usage: 19.6 KB\n"
          ]
        }
      ]
    },
    {
      "cell_type": "markdown",
      "source": [
        "## 3. Utilizando a funcionalidade de agrupamento do Pandas, descubra qual a quantidade de observações (linhas) por classe. Qual a classe com maior quantidade de observações? Obs.: Pesquisar por groupby + count ou value_counts"
      ],
      "metadata": {
        "id": "Og-OHRjCQ0x9"
      }
    },
    {
      "cell_type": "code",
      "source": [
        "df.groupby([\"classe\"]).size()"
      ],
      "metadata": {
        "id": "JLI39HkgQ3kh",
        "colab": {
          "base_uri": "https://localhost:8080/"
        },
        "outputId": "1788ad00-f617-4638-ea40-ac0796ea0f21"
      },
      "execution_count": 93,
      "outputs": [
        {
          "output_type": "execute_result",
          "data": {
            "text/plain": [
              "classe\n",
              "1    59\n",
              "2    71\n",
              "3    48\n",
              "dtype: int64"
            ]
          },
          "metadata": {},
          "execution_count": 93
        }
      ]
    },
    {
      "cell_type": "code",
      "source": [
        "# ou\n",
        "df.groupby([\"classe\"]).count()"
      ],
      "metadata": {
        "colab": {
          "base_uri": "https://localhost:8080/",
          "height": 175
        },
        "id": "lnsBrEye_NW9",
        "outputId": "cff4772a-0148-4b68-f444-1819ef76f077"
      },
      "execution_count": 94,
      "outputs": [
        {
          "output_type": "execute_result",
          "data": {
            "text/html": [
              "\n",
              "  <div id=\"df-63d7c8e3-456b-443a-b89d-772a7c8fa403\">\n",
              "    <div class=\"colab-df-container\">\n",
              "      <div>\n",
              "<style scoped>\n",
              "    .dataframe tbody tr th:only-of-type {\n",
              "        vertical-align: middle;\n",
              "    }\n",
              "\n",
              "    .dataframe tbody tr th {\n",
              "        vertical-align: top;\n",
              "    }\n",
              "\n",
              "    .dataframe thead th {\n",
              "        text-align: right;\n",
              "    }\n",
              "</style>\n",
              "<table border=\"1\" class=\"dataframe\">\n",
              "  <thead>\n",
              "    <tr style=\"text-align: right;\">\n",
              "      <th></th>\n",
              "      <th>alcool</th>\n",
              "      <th>acidoM</th>\n",
              "      <th>cinzas</th>\n",
              "      <th>alcali_Cinza</th>\n",
              "      <th>magne</th>\n",
              "      <th>total_Fenol</th>\n",
              "      <th>flavo</th>\n",
              "      <th>fenol_N_Flavo</th>\n",
              "      <th>proanto</th>\n",
              "      <th>intensi_cor</th>\n",
              "      <th>tonalidade</th>\n",
              "      <th>diluidos</th>\n",
              "      <th>prolina</th>\n",
              "    </tr>\n",
              "    <tr>\n",
              "      <th>classe</th>\n",
              "      <th></th>\n",
              "      <th></th>\n",
              "      <th></th>\n",
              "      <th></th>\n",
              "      <th></th>\n",
              "      <th></th>\n",
              "      <th></th>\n",
              "      <th></th>\n",
              "      <th></th>\n",
              "      <th></th>\n",
              "      <th></th>\n",
              "      <th></th>\n",
              "      <th></th>\n",
              "    </tr>\n",
              "  </thead>\n",
              "  <tbody>\n",
              "    <tr>\n",
              "      <th>1</th>\n",
              "      <td>59</td>\n",
              "      <td>59</td>\n",
              "      <td>59</td>\n",
              "      <td>59</td>\n",
              "      <td>59</td>\n",
              "      <td>59</td>\n",
              "      <td>59</td>\n",
              "      <td>59</td>\n",
              "      <td>59</td>\n",
              "      <td>59</td>\n",
              "      <td>59</td>\n",
              "      <td>59</td>\n",
              "      <td>59</td>\n",
              "    </tr>\n",
              "    <tr>\n",
              "      <th>2</th>\n",
              "      <td>71</td>\n",
              "      <td>71</td>\n",
              "      <td>71</td>\n",
              "      <td>71</td>\n",
              "      <td>71</td>\n",
              "      <td>71</td>\n",
              "      <td>71</td>\n",
              "      <td>71</td>\n",
              "      <td>71</td>\n",
              "      <td>71</td>\n",
              "      <td>71</td>\n",
              "      <td>71</td>\n",
              "      <td>71</td>\n",
              "    </tr>\n",
              "    <tr>\n",
              "      <th>3</th>\n",
              "      <td>48</td>\n",
              "      <td>48</td>\n",
              "      <td>48</td>\n",
              "      <td>48</td>\n",
              "      <td>48</td>\n",
              "      <td>48</td>\n",
              "      <td>48</td>\n",
              "      <td>48</td>\n",
              "      <td>48</td>\n",
              "      <td>48</td>\n",
              "      <td>48</td>\n",
              "      <td>48</td>\n",
              "      <td>48</td>\n",
              "    </tr>\n",
              "  </tbody>\n",
              "</table>\n",
              "</div>\n",
              "      <button class=\"colab-df-convert\" onclick=\"convertToInteractive('df-63d7c8e3-456b-443a-b89d-772a7c8fa403')\"\n",
              "              title=\"Convert this dataframe to an interactive table.\"\n",
              "              style=\"display:none;\">\n",
              "        \n",
              "  <svg xmlns=\"http://www.w3.org/2000/svg\" height=\"24px\"viewBox=\"0 0 24 24\"\n",
              "       width=\"24px\">\n",
              "    <path d=\"M0 0h24v24H0V0z\" fill=\"none\"/>\n",
              "    <path d=\"M18.56 5.44l.94 2.06.94-2.06 2.06-.94-2.06-.94-.94-2.06-.94 2.06-2.06.94zm-11 1L8.5 8.5l.94-2.06 2.06-.94-2.06-.94L8.5 2.5l-.94 2.06-2.06.94zm10 10l.94 2.06.94-2.06 2.06-.94-2.06-.94-.94-2.06-.94 2.06-2.06.94z\"/><path d=\"M17.41 7.96l-1.37-1.37c-.4-.4-.92-.59-1.43-.59-.52 0-1.04.2-1.43.59L10.3 9.45l-7.72 7.72c-.78.78-.78 2.05 0 2.83L4 21.41c.39.39.9.59 1.41.59.51 0 1.02-.2 1.41-.59l7.78-7.78 2.81-2.81c.8-.78.8-2.07 0-2.86zM5.41 20L4 18.59l7.72-7.72 1.47 1.35L5.41 20z\"/>\n",
              "  </svg>\n",
              "      </button>\n",
              "      \n",
              "  <style>\n",
              "    .colab-df-container {\n",
              "      display:flex;\n",
              "      flex-wrap:wrap;\n",
              "      gap: 12px;\n",
              "    }\n",
              "\n",
              "    .colab-df-convert {\n",
              "      background-color: #E8F0FE;\n",
              "      border: none;\n",
              "      border-radius: 50%;\n",
              "      cursor: pointer;\n",
              "      display: none;\n",
              "      fill: #1967D2;\n",
              "      height: 32px;\n",
              "      padding: 0 0 0 0;\n",
              "      width: 32px;\n",
              "    }\n",
              "\n",
              "    .colab-df-convert:hover {\n",
              "      background-color: #E2EBFA;\n",
              "      box-shadow: 0px 1px 2px rgba(60, 64, 67, 0.3), 0px 1px 3px 1px rgba(60, 64, 67, 0.15);\n",
              "      fill: #174EA6;\n",
              "    }\n",
              "\n",
              "    [theme=dark] .colab-df-convert {\n",
              "      background-color: #3B4455;\n",
              "      fill: #D2E3FC;\n",
              "    }\n",
              "\n",
              "    [theme=dark] .colab-df-convert:hover {\n",
              "      background-color: #434B5C;\n",
              "      box-shadow: 0px 1px 3px 1px rgba(0, 0, 0, 0.15);\n",
              "      filter: drop-shadow(0px 1px 2px rgba(0, 0, 0, 0.3));\n",
              "      fill: #FFFFFF;\n",
              "    }\n",
              "  </style>\n",
              "\n",
              "      <script>\n",
              "        const buttonEl =\n",
              "          document.querySelector('#df-63d7c8e3-456b-443a-b89d-772a7c8fa403 button.colab-df-convert');\n",
              "        buttonEl.style.display =\n",
              "          google.colab.kernel.accessAllowed ? 'block' : 'none';\n",
              "\n",
              "        async function convertToInteractive(key) {\n",
              "          const element = document.querySelector('#df-63d7c8e3-456b-443a-b89d-772a7c8fa403');\n",
              "          const dataTable =\n",
              "            await google.colab.kernel.invokeFunction('convertToInteractive',\n",
              "                                                     [key], {});\n",
              "          if (!dataTable) return;\n",
              "\n",
              "          const docLinkHtml = 'Like what you see? Visit the ' +\n",
              "            '<a target=\"_blank\" href=https://colab.research.google.com/notebooks/data_table.ipynb>data table notebook</a>'\n",
              "            + ' to learn more about interactive tables.';\n",
              "          element.innerHTML = '';\n",
              "          dataTable['output_type'] = 'display_data';\n",
              "          await google.colab.output.renderOutput(dataTable, element);\n",
              "          const docLink = document.createElement('div');\n",
              "          docLink.innerHTML = docLinkHtml;\n",
              "          element.appendChild(docLink);\n",
              "        }\n",
              "      </script>\n",
              "    </div>\n",
              "  </div>\n",
              "  "
            ],
            "text/plain": [
              "        alcool  acidoM  cinzas  alcali_Cinza  magne  total_Fenol  flavo  \\\n",
              "classe                                                                    \n",
              "1           59      59      59            59     59           59     59   \n",
              "2           71      71      71            71     71           71     71   \n",
              "3           48      48      48            48     48           48     48   \n",
              "\n",
              "        fenol_N_Flavo  proanto  intensi_cor  tonalidade  diluidos  prolina  \n",
              "classe                                                                      \n",
              "1                  59       59           59          59        59       59  \n",
              "2                  71       71           71          71        71       71  \n",
              "3                  48       48           48          48        48       48  "
            ]
          },
          "metadata": {},
          "execution_count": 94
        }
      ]
    },
    {
      "cell_type": "markdown",
      "source": [
        "## 4. Qual a coluna do conjunto de dados com maior desvio padrão (std)? Há alguma explicação?\n",
        "\n",
        "R: A prolina, possivelmente está em outra unidade de medida.\n"
      ],
      "metadata": {
        "id": "rzvV0adaQ4Vp"
      }
    },
    {
      "cell_type": "code",
      "source": [
        "df.describe().T # t transposição"
      ],
      "metadata": {
        "colab": {
          "base_uri": "https://localhost:8080/",
          "height": 489
        },
        "id": "-o_mHqXO_uv1",
        "outputId": "eaf9cb36-30cf-4252-e64a-add64f00713c"
      },
      "execution_count": 95,
      "outputs": [
        {
          "output_type": "execute_result",
          "data": {
            "text/html": [
              "\n",
              "  <div id=\"df-7b729b5d-88f7-403c-b2e3-14f2d941b3c8\">\n",
              "    <div class=\"colab-df-container\">\n",
              "      <div>\n",
              "<style scoped>\n",
              "    .dataframe tbody tr th:only-of-type {\n",
              "        vertical-align: middle;\n",
              "    }\n",
              "\n",
              "    .dataframe tbody tr th {\n",
              "        vertical-align: top;\n",
              "    }\n",
              "\n",
              "    .dataframe thead th {\n",
              "        text-align: right;\n",
              "    }\n",
              "</style>\n",
              "<table border=\"1\" class=\"dataframe\">\n",
              "  <thead>\n",
              "    <tr style=\"text-align: right;\">\n",
              "      <th></th>\n",
              "      <th>count</th>\n",
              "      <th>mean</th>\n",
              "      <th>std</th>\n",
              "      <th>min</th>\n",
              "      <th>25%</th>\n",
              "      <th>50%</th>\n",
              "      <th>75%</th>\n",
              "      <th>max</th>\n",
              "    </tr>\n",
              "  </thead>\n",
              "  <tbody>\n",
              "    <tr>\n",
              "      <th>classe</th>\n",
              "      <td>178.0</td>\n",
              "      <td>1.938202</td>\n",
              "      <td>0.775035</td>\n",
              "      <td>1.00</td>\n",
              "      <td>1.0000</td>\n",
              "      <td>2.000</td>\n",
              "      <td>3.0000</td>\n",
              "      <td>3.00</td>\n",
              "    </tr>\n",
              "    <tr>\n",
              "      <th>alcool</th>\n",
              "      <td>178.0</td>\n",
              "      <td>13.000618</td>\n",
              "      <td>0.811827</td>\n",
              "      <td>11.03</td>\n",
              "      <td>12.3625</td>\n",
              "      <td>13.050</td>\n",
              "      <td>13.6775</td>\n",
              "      <td>14.83</td>\n",
              "    </tr>\n",
              "    <tr>\n",
              "      <th>acidoM</th>\n",
              "      <td>178.0</td>\n",
              "      <td>2.336348</td>\n",
              "      <td>1.117146</td>\n",
              "      <td>0.74</td>\n",
              "      <td>1.6025</td>\n",
              "      <td>1.865</td>\n",
              "      <td>3.0825</td>\n",
              "      <td>5.80</td>\n",
              "    </tr>\n",
              "    <tr>\n",
              "      <th>cinzas</th>\n",
              "      <td>178.0</td>\n",
              "      <td>2.366517</td>\n",
              "      <td>0.274344</td>\n",
              "      <td>1.36</td>\n",
              "      <td>2.2100</td>\n",
              "      <td>2.360</td>\n",
              "      <td>2.5575</td>\n",
              "      <td>3.23</td>\n",
              "    </tr>\n",
              "    <tr>\n",
              "      <th>alcali_Cinza</th>\n",
              "      <td>178.0</td>\n",
              "      <td>19.494944</td>\n",
              "      <td>3.339564</td>\n",
              "      <td>10.60</td>\n",
              "      <td>17.2000</td>\n",
              "      <td>19.500</td>\n",
              "      <td>21.5000</td>\n",
              "      <td>30.00</td>\n",
              "    </tr>\n",
              "    <tr>\n",
              "      <th>magne</th>\n",
              "      <td>178.0</td>\n",
              "      <td>99.741573</td>\n",
              "      <td>14.282484</td>\n",
              "      <td>70.00</td>\n",
              "      <td>88.0000</td>\n",
              "      <td>98.000</td>\n",
              "      <td>107.0000</td>\n",
              "      <td>162.00</td>\n",
              "    </tr>\n",
              "    <tr>\n",
              "      <th>total_Fenol</th>\n",
              "      <td>178.0</td>\n",
              "      <td>2.295112</td>\n",
              "      <td>0.625851</td>\n",
              "      <td>0.98</td>\n",
              "      <td>1.7425</td>\n",
              "      <td>2.355</td>\n",
              "      <td>2.8000</td>\n",
              "      <td>3.88</td>\n",
              "    </tr>\n",
              "    <tr>\n",
              "      <th>flavo</th>\n",
              "      <td>178.0</td>\n",
              "      <td>2.029270</td>\n",
              "      <td>0.998859</td>\n",
              "      <td>0.34</td>\n",
              "      <td>1.2050</td>\n",
              "      <td>2.135</td>\n",
              "      <td>2.8750</td>\n",
              "      <td>5.08</td>\n",
              "    </tr>\n",
              "    <tr>\n",
              "      <th>fenol_N_Flavo</th>\n",
              "      <td>178.0</td>\n",
              "      <td>0.361854</td>\n",
              "      <td>0.124453</td>\n",
              "      <td>0.13</td>\n",
              "      <td>0.2700</td>\n",
              "      <td>0.340</td>\n",
              "      <td>0.4375</td>\n",
              "      <td>0.66</td>\n",
              "    </tr>\n",
              "    <tr>\n",
              "      <th>proanto</th>\n",
              "      <td>178.0</td>\n",
              "      <td>1.590899</td>\n",
              "      <td>0.572359</td>\n",
              "      <td>0.41</td>\n",
              "      <td>1.2500</td>\n",
              "      <td>1.555</td>\n",
              "      <td>1.9500</td>\n",
              "      <td>3.58</td>\n",
              "    </tr>\n",
              "    <tr>\n",
              "      <th>intensi_cor</th>\n",
              "      <td>178.0</td>\n",
              "      <td>5.058090</td>\n",
              "      <td>2.318286</td>\n",
              "      <td>1.28</td>\n",
              "      <td>3.2200</td>\n",
              "      <td>4.690</td>\n",
              "      <td>6.2000</td>\n",
              "      <td>13.00</td>\n",
              "    </tr>\n",
              "    <tr>\n",
              "      <th>tonalidade</th>\n",
              "      <td>178.0</td>\n",
              "      <td>0.957449</td>\n",
              "      <td>0.228572</td>\n",
              "      <td>0.48</td>\n",
              "      <td>0.7825</td>\n",
              "      <td>0.965</td>\n",
              "      <td>1.1200</td>\n",
              "      <td>1.71</td>\n",
              "    </tr>\n",
              "    <tr>\n",
              "      <th>diluidos</th>\n",
              "      <td>178.0</td>\n",
              "      <td>2.611685</td>\n",
              "      <td>0.709990</td>\n",
              "      <td>1.27</td>\n",
              "      <td>1.9375</td>\n",
              "      <td>2.780</td>\n",
              "      <td>3.1700</td>\n",
              "      <td>4.00</td>\n",
              "    </tr>\n",
              "    <tr>\n",
              "      <th>prolina</th>\n",
              "      <td>178.0</td>\n",
              "      <td>746.893258</td>\n",
              "      <td>314.907474</td>\n",
              "      <td>278.00</td>\n",
              "      <td>500.5000</td>\n",
              "      <td>673.500</td>\n",
              "      <td>985.0000</td>\n",
              "      <td>1680.00</td>\n",
              "    </tr>\n",
              "  </tbody>\n",
              "</table>\n",
              "</div>\n",
              "      <button class=\"colab-df-convert\" onclick=\"convertToInteractive('df-7b729b5d-88f7-403c-b2e3-14f2d941b3c8')\"\n",
              "              title=\"Convert this dataframe to an interactive table.\"\n",
              "              style=\"display:none;\">\n",
              "        \n",
              "  <svg xmlns=\"http://www.w3.org/2000/svg\" height=\"24px\"viewBox=\"0 0 24 24\"\n",
              "       width=\"24px\">\n",
              "    <path d=\"M0 0h24v24H0V0z\" fill=\"none\"/>\n",
              "    <path d=\"M18.56 5.44l.94 2.06.94-2.06 2.06-.94-2.06-.94-.94-2.06-.94 2.06-2.06.94zm-11 1L8.5 8.5l.94-2.06 2.06-.94-2.06-.94L8.5 2.5l-.94 2.06-2.06.94zm10 10l.94 2.06.94-2.06 2.06-.94-2.06-.94-.94-2.06-.94 2.06-2.06.94z\"/><path d=\"M17.41 7.96l-1.37-1.37c-.4-.4-.92-.59-1.43-.59-.52 0-1.04.2-1.43.59L10.3 9.45l-7.72 7.72c-.78.78-.78 2.05 0 2.83L4 21.41c.39.39.9.59 1.41.59.51 0 1.02-.2 1.41-.59l7.78-7.78 2.81-2.81c.8-.78.8-2.07 0-2.86zM5.41 20L4 18.59l7.72-7.72 1.47 1.35L5.41 20z\"/>\n",
              "  </svg>\n",
              "      </button>\n",
              "      \n",
              "  <style>\n",
              "    .colab-df-container {\n",
              "      display:flex;\n",
              "      flex-wrap:wrap;\n",
              "      gap: 12px;\n",
              "    }\n",
              "\n",
              "    .colab-df-convert {\n",
              "      background-color: #E8F0FE;\n",
              "      border: none;\n",
              "      border-radius: 50%;\n",
              "      cursor: pointer;\n",
              "      display: none;\n",
              "      fill: #1967D2;\n",
              "      height: 32px;\n",
              "      padding: 0 0 0 0;\n",
              "      width: 32px;\n",
              "    }\n",
              "\n",
              "    .colab-df-convert:hover {\n",
              "      background-color: #E2EBFA;\n",
              "      box-shadow: 0px 1px 2px rgba(60, 64, 67, 0.3), 0px 1px 3px 1px rgba(60, 64, 67, 0.15);\n",
              "      fill: #174EA6;\n",
              "    }\n",
              "\n",
              "    [theme=dark] .colab-df-convert {\n",
              "      background-color: #3B4455;\n",
              "      fill: #D2E3FC;\n",
              "    }\n",
              "\n",
              "    [theme=dark] .colab-df-convert:hover {\n",
              "      background-color: #434B5C;\n",
              "      box-shadow: 0px 1px 3px 1px rgba(0, 0, 0, 0.15);\n",
              "      filter: drop-shadow(0px 1px 2px rgba(0, 0, 0, 0.3));\n",
              "      fill: #FFFFFF;\n",
              "    }\n",
              "  </style>\n",
              "\n",
              "      <script>\n",
              "        const buttonEl =\n",
              "          document.querySelector('#df-7b729b5d-88f7-403c-b2e3-14f2d941b3c8 button.colab-df-convert');\n",
              "        buttonEl.style.display =\n",
              "          google.colab.kernel.accessAllowed ? 'block' : 'none';\n",
              "\n",
              "        async function convertToInteractive(key) {\n",
              "          const element = document.querySelector('#df-7b729b5d-88f7-403c-b2e3-14f2d941b3c8');\n",
              "          const dataTable =\n",
              "            await google.colab.kernel.invokeFunction('convertToInteractive',\n",
              "                                                     [key], {});\n",
              "          if (!dataTable) return;\n",
              "\n",
              "          const docLinkHtml = 'Like what you see? Visit the ' +\n",
              "            '<a target=\"_blank\" href=https://colab.research.google.com/notebooks/data_table.ipynb>data table notebook</a>'\n",
              "            + ' to learn more about interactive tables.';\n",
              "          element.innerHTML = '';\n",
              "          dataTable['output_type'] = 'display_data';\n",
              "          await google.colab.output.renderOutput(dataTable, element);\n",
              "          const docLink = document.createElement('div');\n",
              "          docLink.innerHTML = docLinkHtml;\n",
              "          element.appendChild(docLink);\n",
              "        }\n",
              "      </script>\n",
              "    </div>\n",
              "  </div>\n",
              "  "
            ],
            "text/plain": [
              "               count        mean         std     min       25%      50%  \\\n",
              "classe         178.0    1.938202    0.775035    1.00    1.0000    2.000   \n",
              "alcool         178.0   13.000618    0.811827   11.03   12.3625   13.050   \n",
              "acidoM         178.0    2.336348    1.117146    0.74    1.6025    1.865   \n",
              "cinzas         178.0    2.366517    0.274344    1.36    2.2100    2.360   \n",
              "alcali_Cinza   178.0   19.494944    3.339564   10.60   17.2000   19.500   \n",
              "magne          178.0   99.741573   14.282484   70.00   88.0000   98.000   \n",
              "total_Fenol    178.0    2.295112    0.625851    0.98    1.7425    2.355   \n",
              "flavo          178.0    2.029270    0.998859    0.34    1.2050    2.135   \n",
              "fenol_N_Flavo  178.0    0.361854    0.124453    0.13    0.2700    0.340   \n",
              "proanto        178.0    1.590899    0.572359    0.41    1.2500    1.555   \n",
              "intensi_cor    178.0    5.058090    2.318286    1.28    3.2200    4.690   \n",
              "tonalidade     178.0    0.957449    0.228572    0.48    0.7825    0.965   \n",
              "diluidos       178.0    2.611685    0.709990    1.27    1.9375    2.780   \n",
              "prolina        178.0  746.893258  314.907474  278.00  500.5000  673.500   \n",
              "\n",
              "                    75%      max  \n",
              "classe           3.0000     3.00  \n",
              "alcool          13.6775    14.83  \n",
              "acidoM           3.0825     5.80  \n",
              "cinzas           2.5575     3.23  \n",
              "alcali_Cinza    21.5000    30.00  \n",
              "magne          107.0000   162.00  \n",
              "total_Fenol      2.8000     3.88  \n",
              "flavo            2.8750     5.08  \n",
              "fenol_N_Flavo    0.4375     0.66  \n",
              "proanto          1.9500     3.58  \n",
              "intensi_cor      6.2000    13.00  \n",
              "tonalidade       1.1200     1.71  \n",
              "diluidos         3.1700     4.00  \n",
              "prolina        985.0000  1680.00  "
            ]
          },
          "metadata": {},
          "execution_count": 95
        }
      ]
    },
    {
      "cell_type": "code",
      "source": [
        "df.std()"
      ],
      "metadata": {
        "id": "NQlyZOjjQ6rx",
        "colab": {
          "base_uri": "https://localhost:8080/"
        },
        "outputId": "3e5acdba-fb20-42f8-a313-b106e6cdde99"
      },
      "execution_count": 96,
      "outputs": [
        {
          "output_type": "execute_result",
          "data": {
            "text/plain": [
              "classe             0.775035\n",
              "alcool             0.811827\n",
              "acidoM             1.117146\n",
              "cinzas             0.274344\n",
              "alcali_Cinza       3.339564\n",
              "magne             14.282484\n",
              "total_Fenol        0.625851\n",
              "flavo              0.998859\n",
              "fenol_N_Flavo      0.124453\n",
              "proanto            0.572359\n",
              "intensi_cor        2.318286\n",
              "tonalidade         0.228572\n",
              "diluidos           0.709990\n",
              "prolina          314.907474\n",
              "dtype: float64"
            ]
          },
          "metadata": {},
          "execution_count": 96
        }
      ]
    },
    {
      "cell_type": "markdown",
      "source": [
        "## 5. Observando o histograma da coluna ácido málico (malic acid), o que pode ser inferido?\n",
        "\n",
        "R: "
      ],
      "metadata": {
        "id": "ypzGFxa_Q7PQ"
      }
    },
    {
      "cell_type": "code",
      "source": [
        "df['acidoM'].hist();"
      ],
      "metadata": {
        "id": "3bPdYc-iQ_0Z",
        "colab": {
          "base_uri": "https://localhost:8080/",
          "height": 265
        },
        "outputId": "110b1e25-9433-4fdb-d05b-ac2a8ea47363"
      },
      "execution_count": 97,
      "outputs": [
        {
          "output_type": "display_data",
          "data": {
            "image/png": "[encoded data removed]",
            "text/plain": [
              "<Figure size 432x288 with 1 Axes>"
            ]
          },
          "metadata": {
            "needs_background": "light"
          }
        }
      ]
    },
    {
      "cell_type": "markdown",
      "source": [
        "## 6. Observando o histograma da coluna \"álcool\", o que pode ser inferido?\n",
        "\n",
        "R: Não há uma disparidade muito grande dos dados"
      ],
      "metadata": {
        "id": "2HZjb5iyRAxr"
      }
    },
    {
      "cell_type": "code",
      "source": [
        "df['alcool'].hist();"
      ],
      "metadata": {
        "id": "nrmEbCimRD7v",
        "colab": {
          "base_uri": "https://localhost:8080/",
          "height": 265
        },
        "outputId": "ed52f3b0-631e-419a-b80d-2d5d7f7a578b"
      },
      "execution_count": 85,
      "outputs": [
        {
          "output_type": "display_data",
          "data": {
            "image/png": "[encoded data removed]",
            "text/plain": [
              "<Figure size 432x288 with 1 Axes>"
            ]
          },
          "metadata": {
            "needs_background": "light"
          }
        }
      ]
    },
    {
      "cell_type": "markdown",
      "source": [
        "## 7. Qual o maior valor observado de nível de álcool?"
      ],
      "metadata": {
        "id": "c_bqR9_lREHI"
      }
    },
    {
      "cell_type": "code",
      "source": [
        "df['alcool'].max()"
      ],
      "metadata": {
        "id": "X1yDzuhARGg_",
        "colab": {
          "base_uri": "https://localhost:8080/"
        },
        "outputId": "801a60f6-3881-4771-b889-ee4163e46304"
      },
      "execution_count": 86,
      "outputs": [
        {
          "output_type": "execute_result",
          "data": {
            "text/plain": [
              "14.83"
            ]
          },
          "metadata": {},
          "execution_count": 86
        }
      ]
    },
    {
      "cell_type": "markdown",
      "source": [
        "## 8. Qual o menor valor observado de cinzas? Qual o tipo (classe) dessa observação? Obs: utilizar o filtro do Pandas."
      ],
      "metadata": {
        "id": "kPlYMni_RHbv"
      }
    },
    {
      "cell_type": "code",
      "source": [
        "df['cinzas'].min()"
      ],
      "metadata": {
        "id": "PUGJ8TVPRMoy",
        "colab": {
          "base_uri": "https://localhost:8080/"
        },
        "outputId": "81fa9cf7-b3b0-40d6-8eb8-923b8d2ec96b"
      },
      "execution_count": 87,
      "outputs": [
        {
          "output_type": "execute_result",
          "data": {
            "text/plain": [
              "1.36"
            ]
          },
          "metadata": {},
          "execution_count": 87
        }
      ]
    },
    {
      "cell_type": "markdown",
      "source": [
        "## 9. Busque pelos exemplos de índice 0 e 100. Qual a classe deles?"
      ],
      "metadata": {
        "id": "axfFgP19RM7G"
      }
    },
    {
      "cell_type": "code",
      "source": [
        "df.iloc[[0, 100]]['classe']"
      ],
      "metadata": {
        "id": "FNGP_BwdRONq",
        "colab": {
          "base_uri": "https://localhost:8080/"
        },
        "outputId": "d65e12fe-f05f-4497-8ff5-d1ebb1600f27"
      },
      "execution_count": 88,
      "outputs": [
        {
          "output_type": "execute_result",
          "data": {
            "text/plain": [
              "0      1\n",
              "100    2\n",
              "Name: classe, dtype: int64"
            ]
          },
          "metadata": {},
          "execution_count": 88
        }
      ]
    },
    {
      "cell_type": "markdown",
      "source": [
        "## 10. Alguma das colunas possuem outliers? Quais?"
      ],
      "metadata": {
        "id": "EKIyhN3RRO0E"
      }
    },
    {
      "cell_type": "code",
      "source": [
        "import seaborn as sns\n",
        "#sns.boxplot(data = df, y = \"cinzas\")\n",
        "#sns.boxplot(data = df, y = \"alcali_Cinza\")\n",
        "#sns.boxplot(data = df, y = \"magne\")\n",
        "#sns.boxplot(data = df, y = \"total_Fenol\")\n",
        "#sns.boxplot(data = df, y = \"intensi_cor\")\n",
        "#sns.boxplot(data = df, y = \"tonalidade\")\n",
        "#sns.boxplot(data = df, y = \"diluidos\")\n",
        "df_2 = df[['cinzas', 'alcali_Cinza', 'magne', 'total_Fenol', 'intensi_cor', 'tonalidade', 'diluidos']]\n",
        "sns.boxplot(data=df_2, orient=\"h\", palette=\"Set1\");"
      ],
      "metadata": {
        "id": "gDPcrjn7RseL",
        "colab": {
          "base_uri": "https://localhost:8080/",
          "height": 265
        },
        "outputId": "da35c99e-12e5-4030-c202-664ee907154f"
      },
      "execution_count": 89,
      "outputs": [
        {
          "output_type": "display_data",
          "data": {
            "image/png": "[encoded data removed]",
            "text/plain": [
              "<Figure size 432x288 with 1 Axes>"
            ]
          },
          "metadata": {
            "needs_background": "light"
          }
        }
      ]
    },
    {
      "cell_type": "markdown",
      "source": [
        "## 11. Calcule o intervalo interquartil (IIQ), o max e o min da coluna magnésio."
      ],
      "metadata": {
        "id": "WGgyV-6rRs5O"
      }
    },
    {
      "cell_type": "code",
      "source": [
        "print(\"Magnésio Max:\", df['magne'].max())\n",
        "print(\"Magnésio Min:\", df['magne'].min())\n",
        "\n",
        "Q1 = df['magne'].quantile(0.25)\n",
        "Q3 = df['magne'].quantile(0.75)\n",
        "IQR = Q3 - Q1\n",
        "print('Intervalo interquartil ', IQR)"
      ],
      "metadata": {
        "id": "MU-eqWeFRuN9",
        "colab": {
          "base_uri": "https://localhost:8080/"
        },
        "outputId": "3fedcbc1-479d-4d90-8d2c-a395a644ac02"
      },
      "execution_count": 99,
      "outputs": [
        {
          "output_type": "stream",
          "name": "stdout",
          "text": [
            "Magnésio Max: 162\n",
            "Magnésio Min: 70\n",
            "Intervalo interquartil  19.0\n"
          ]
        }
      ]
    },
    {
      "cell_type": "code",
      "source": [
        "bi = Q1 - 1.5*IQR\n",
        "bs = Q1 - 1.5*IQR\n",
        "\n",
        "(bi, bs)"
      ],
      "metadata": {
        "colab": {
          "base_uri": "https://localhost:8080/"
        },
        "id": "MzaeU6SYHSMj",
        "outputId": "7d88167b-f3db-4e19-8cbe-adb813cc1c3f"
      },
      "execution_count": 100,
      "outputs": [
        {
          "output_type": "execute_result",
          "data": {
            "text/plain": [
              "(59.5, 59.5)"
            ]
          },
          "metadata": {},
          "execution_count": 100
        }
      ]
    }
  ]
}